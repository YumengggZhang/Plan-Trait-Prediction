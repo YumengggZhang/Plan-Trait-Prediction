{
 "cells": [
  {
   "cell_type": "code",
   "execution_count": 51,
   "metadata": {},
   "outputs": [],
   "source": [
    "import torch\n",
    "import timm\n",
    "import torch.nn as nn\n",
    "import numpy as np\n",
    "import matplotlib.pyplot as plt\n",
    "import matplotlib.image as mpimg\n",
    "import os\n",
    "import pandas as pd\n",
    "import sklearn \n",
    "from sklearn.model_selection import train_test_split\n",
    "from sklearn.preprocessing import RobustScaler, Normalizer\n",
    "from torch.utils.data import DataLoader\n",
    "import torchvision.models as models\n",
    "import torchvision.transforms as transforms\n",
    "from sklearn.metrics import accuracy_score, confusion_matrix ,roc_curve,roc_auc_score\n",
    "from tqdm import tqdm\n",
    "from PIL import Image\n",
    "import seaborn as sns"
   ]
  },
  {
   "cell_type": "code",
   "execution_count": 52,
   "metadata": {},
   "outputs": [],
   "source": [
    "train_path = 'input/train.csv'\n",
    "test_path = 'input/test.csv'\n",
    "MAX_EPOCH = 100\n",
    "BATCH_SIZE = 128\n",
    "weight_decay = 1e-3\n",
    "LR=0.0001\n",
    "img_size = 128\n",
    "sd_features = ['X4_sd', 'X11_sd','X18_sd', 'X26_sd', 'X50_sd', 'X3112_sd']\n",
    "label_features = ['X4_mean', 'X11_mean', 'X18_mean', 'X26_mean', 'X50_mean', 'X3112_mean']\n"
   ]
  },
  {
   "cell_type": "code",
   "execution_count": 53,
   "metadata": {},
   "outputs": [],
   "source": [
    "train_df = pd.read_csv(train_path)\n",
    "test_df = pd.read_csv(test_path)\n",
    "train_df['id'] = train_df['id'].map(lambda x: 'train_images/' + str(x)+ \".jpeg\")\n",
    "test_df['id'] = test_df['id'].map(lambda x: 'test_images/' + str(x)+ \".jpeg\")\n",
    "FEATURE_COLS = test_df.columns[1:].tolist()"
   ]
  },
  {
   "cell_type": "markdown",
   "metadata": {},
   "source": [
    "**Test sd?**"
   ]
  },
  {
   "cell_type": "markdown",
   "metadata": {},
   "source": [
    "### Delete abnormal values"
   ]
  },
  {
   "cell_type": "code",
   "execution_count": 54,
   "metadata": {},
   "outputs": [
    {
     "data": {
      "text/html": [
       "<div>\n",
       "<style scoped>\n",
       "    .dataframe tbody tr th:only-of-type {\n",
       "        vertical-align: middle;\n",
       "    }\n",
       "\n",
       "    .dataframe tbody tr th {\n",
       "        vertical-align: top;\n",
       "    }\n",
       "\n",
       "    .dataframe thead th {\n",
       "        text-align: right;\n",
       "    }\n",
       "</style>\n",
       "<table border=\"1\" class=\"dataframe\">\n",
       "  <thead>\n",
       "    <tr style=\"text-align: right;\">\n",
       "      <th></th>\n",
       "      <th>id</th>\n",
       "      <th>WORLDCLIM_BIO1_annual_mean_temperature</th>\n",
       "      <th>WORLDCLIM_BIO12_annual_precipitation</th>\n",
       "      <th>WORLDCLIM_BIO13.BIO14_delta_precipitation_of_wettest_and_dryest_month</th>\n",
       "      <th>WORLDCLIM_BIO15_precipitation_seasonality</th>\n",
       "      <th>WORLDCLIM_BIO4_temperature_seasonality</th>\n",
       "      <th>WORLDCLIM_BIO7_temperature_annual_range</th>\n",
       "      <th>SOIL_bdod_0.5cm_mean_0.01_deg</th>\n",
       "      <th>SOIL_bdod_100.200cm_mean_0.01_deg</th>\n",
       "      <th>SOIL_bdod_15.30cm_mean_0.01_deg</th>\n",
       "      <th>...</th>\n",
       "      <th>X18_mean</th>\n",
       "      <th>X26_mean</th>\n",
       "      <th>X50_mean</th>\n",
       "      <th>X3112_mean</th>\n",
       "      <th>X4_sd</th>\n",
       "      <th>X11_sd</th>\n",
       "      <th>X18_sd</th>\n",
       "      <th>X26_sd</th>\n",
       "      <th>X50_sd</th>\n",
       "      <th>X3112_sd</th>\n",
       "    </tr>\n",
       "  </thead>\n",
       "  <tbody>\n",
       "    <tr>\n",
       "      <th>0</th>\n",
       "      <td>train_images/192027691.jpeg</td>\n",
       "      <td>12.235703</td>\n",
       "      <td>374.466675</td>\n",
       "      <td>62.524445</td>\n",
       "      <td>72.256844</td>\n",
       "      <td>773.592041</td>\n",
       "      <td>33.277779</td>\n",
       "      <td>125</td>\n",
       "      <td>149</td>\n",
       "      <td>136</td>\n",
       "      <td>...</td>\n",
       "      <td>0.117484</td>\n",
       "      <td>1.243779</td>\n",
       "      <td>1.849375</td>\n",
       "      <td>50.216034</td>\n",
       "      <td>0.008921</td>\n",
       "      <td>1.601473</td>\n",
       "      <td>0.025441</td>\n",
       "      <td>0.153608</td>\n",
       "      <td>0.279610</td>\n",
       "      <td>15.045054</td>\n",
       "    </tr>\n",
       "    <tr>\n",
       "      <th>1</th>\n",
       "      <td>train_images/195542235.jpeg</td>\n",
       "      <td>17.270555</td>\n",
       "      <td>90.239998</td>\n",
       "      <td>10.351111</td>\n",
       "      <td>38.220940</td>\n",
       "      <td>859.193298</td>\n",
       "      <td>40.009777</td>\n",
       "      <td>124</td>\n",
       "      <td>144</td>\n",
       "      <td>138</td>\n",
       "      <td>...</td>\n",
       "      <td>0.389315</td>\n",
       "      <td>0.642940</td>\n",
       "      <td>1.353468</td>\n",
       "      <td>574.098472</td>\n",
       "      <td>0.003102</td>\n",
       "      <td>0.258078</td>\n",
       "      <td>0.000866</td>\n",
       "      <td>0.034630</td>\n",
       "      <td>0.010165</td>\n",
       "      <td>11.004477</td>\n",
       "    </tr>\n",
       "    <tr>\n",
       "      <th>2</th>\n",
       "      <td>train_images/196639184.jpeg</td>\n",
       "      <td>14.254504</td>\n",
       "      <td>902.071411</td>\n",
       "      <td>49.642857</td>\n",
       "      <td>17.873655</td>\n",
       "      <td>387.977753</td>\n",
       "      <td>22.807142</td>\n",
       "      <td>107</td>\n",
       "      <td>133</td>\n",
       "      <td>119</td>\n",
       "      <td>...</td>\n",
       "      <td>8.552908</td>\n",
       "      <td>0.395241</td>\n",
       "      <td>2.343153</td>\n",
       "      <td>1130.096731</td>\n",
       "      <td>NaN</td>\n",
       "      <td>NaN</td>\n",
       "      <td>NaN</td>\n",
       "      <td>NaN</td>\n",
       "      <td>NaN</td>\n",
       "      <td>NaN</td>\n",
       "    </tr>\n",
       "    <tr>\n",
       "      <th>3</th>\n",
       "      <td>train_images/195728812.jpeg</td>\n",
       "      <td>18.680834</td>\n",
       "      <td>1473.933350</td>\n",
       "      <td>163.100006</td>\n",
       "      <td>45.009758</td>\n",
       "      <td>381.053986</td>\n",
       "      <td>20.436666</td>\n",
       "      <td>120</td>\n",
       "      <td>131</td>\n",
       "      <td>125</td>\n",
       "      <td>...</td>\n",
       "      <td>1.083629</td>\n",
       "      <td>0.154200</td>\n",
       "      <td>1.155308</td>\n",
       "      <td>1042.686546</td>\n",
       "      <td>0.011692</td>\n",
       "      <td>2.818356</td>\n",
       "      <td>0.110673</td>\n",
       "      <td>0.011334</td>\n",
       "      <td>0.229224</td>\n",
       "      <td>141.857187</td>\n",
       "    </tr>\n",
       "    <tr>\n",
       "      <th>4</th>\n",
       "      <td>train_images/195251545.jpeg</td>\n",
       "      <td>0.673204</td>\n",
       "      <td>530.088867</td>\n",
       "      <td>50.857777</td>\n",
       "      <td>38.230709</td>\n",
       "      <td>1323.526855</td>\n",
       "      <td>45.891998</td>\n",
       "      <td>91</td>\n",
       "      <td>146</td>\n",
       "      <td>120</td>\n",
       "      <td>...</td>\n",
       "      <td>0.657585</td>\n",
       "      <td>10.919966</td>\n",
       "      <td>2.246226</td>\n",
       "      <td>2386.467180</td>\n",
       "      <td>0.006157</td>\n",
       "      <td>1.128000</td>\n",
       "      <td>0.026996</td>\n",
       "      <td>0.553815</td>\n",
       "      <td>0.107092</td>\n",
       "      <td>87.146899</td>\n",
       "    </tr>\n",
       "    <tr>\n",
       "      <th>...</th>\n",
       "      <td>...</td>\n",
       "      <td>...</td>\n",
       "      <td>...</td>\n",
       "      <td>...</td>\n",
       "      <td>...</td>\n",
       "      <td>...</td>\n",
       "      <td>...</td>\n",
       "      <td>...</td>\n",
       "      <td>...</td>\n",
       "      <td>...</td>\n",
       "      <td>...</td>\n",
       "      <td>...</td>\n",
       "      <td>...</td>\n",
       "      <td>...</td>\n",
       "      <td>...</td>\n",
       "      <td>...</td>\n",
       "      <td>...</td>\n",
       "      <td>...</td>\n",
       "      <td>...</td>\n",
       "      <td>...</td>\n",
       "      <td>...</td>\n",
       "    </tr>\n",
       "    <tr>\n",
       "      <th>55484</th>\n",
       "      <td>train_images/190558785.jpeg</td>\n",
       "      <td>19.472172</td>\n",
       "      <td>244.795914</td>\n",
       "      <td>39.127552</td>\n",
       "      <td>67.074493</td>\n",
       "      <td>472.710358</td>\n",
       "      <td>27.758673</td>\n",
       "      <td>118</td>\n",
       "      <td>140</td>\n",
       "      <td>131</td>\n",
       "      <td>...</td>\n",
       "      <td>0.233690</td>\n",
       "      <td>1.783193</td>\n",
       "      <td>1.608341</td>\n",
       "      <td>969.547831</td>\n",
       "      <td>NaN</td>\n",
       "      <td>NaN</td>\n",
       "      <td>NaN</td>\n",
       "      <td>NaN</td>\n",
       "      <td>NaN</td>\n",
       "      <td>NaN</td>\n",
       "    </tr>\n",
       "    <tr>\n",
       "      <th>55485</th>\n",
       "      <td>train_images/194523231.jpeg</td>\n",
       "      <td>13.724150</td>\n",
       "      <td>1450.000000</td>\n",
       "      <td>162.260208</td>\n",
       "      <td>43.139324</td>\n",
       "      <td>652.716858</td>\n",
       "      <td>26.694387</td>\n",
       "      <td>125</td>\n",
       "      <td>144</td>\n",
       "      <td>135</td>\n",
       "      <td>...</td>\n",
       "      <td>1.017099</td>\n",
       "      <td>12.713048</td>\n",
       "      <td>2.418300</td>\n",
       "      <td>1630.015480</td>\n",
       "      <td>0.005474</td>\n",
       "      <td>0.128133</td>\n",
       "      <td>0.117010</td>\n",
       "      <td>3.164520</td>\n",
       "      <td>0.082212</td>\n",
       "      <td>136.503697</td>\n",
       "    </tr>\n",
       "    <tr>\n",
       "      <th>55486</th>\n",
       "      <td>train_images/195888987.jpeg</td>\n",
       "      <td>14.741204</td>\n",
       "      <td>581.866638</td>\n",
       "      <td>109.231110</td>\n",
       "      <td>89.272148</td>\n",
       "      <td>507.273010</td>\n",
       "      <td>26.874668</td>\n",
       "      <td>118</td>\n",
       "      <td>155</td>\n",
       "      <td>136</td>\n",
       "      <td>...</td>\n",
       "      <td>2.717395</td>\n",
       "      <td>10.206478</td>\n",
       "      <td>2.722599</td>\n",
       "      <td>602.229880</td>\n",
       "      <td>0.019727</td>\n",
       "      <td>0.215040</td>\n",
       "      <td>0.156309</td>\n",
       "      <td>0.919139</td>\n",
       "      <td>0.079395</td>\n",
       "      <td>26.159626</td>\n",
       "    </tr>\n",
       "    <tr>\n",
       "      <th>55487</th>\n",
       "      <td>train_images/135487319.jpeg</td>\n",
       "      <td>16.094763</td>\n",
       "      <td>1180.838135</td>\n",
       "      <td>80.176193</td>\n",
       "      <td>22.909716</td>\n",
       "      <td>342.184021</td>\n",
       "      <td>17.346189</td>\n",
       "      <td>109</td>\n",
       "      <td>130</td>\n",
       "      <td>117</td>\n",
       "      <td>...</td>\n",
       "      <td>4.429659</td>\n",
       "      <td>9.372170</td>\n",
       "      <td>3.251739</td>\n",
       "      <td>244.387170</td>\n",
       "      <td>NaN</td>\n",
       "      <td>NaN</td>\n",
       "      <td>NaN</td>\n",
       "      <td>NaN</td>\n",
       "      <td>NaN</td>\n",
       "      <td>NaN</td>\n",
       "    </tr>\n",
       "    <tr>\n",
       "      <th>55488</th>\n",
       "      <td>train_images/146608105.jpeg</td>\n",
       "      <td>24.559971</td>\n",
       "      <td>1748.857178</td>\n",
       "      <td>272.821442</td>\n",
       "      <td>51.363777</td>\n",
       "      <td>73.158348</td>\n",
       "      <td>13.400000</td>\n",
       "      <td>124</td>\n",
       "      <td>135</td>\n",
       "      <td>131</td>\n",
       "      <td>...</td>\n",
       "      <td>5.827227</td>\n",
       "      <td>154.773325</td>\n",
       "      <td>1.523978</td>\n",
       "      <td>3740.065672</td>\n",
       "      <td>0.004373</td>\n",
       "      <td>0.231755</td>\n",
       "      <td>0.039644</td>\n",
       "      <td>10.867344</td>\n",
       "      <td>0.009248</td>\n",
       "      <td>250.744389</td>\n",
       "    </tr>\n",
       "  </tbody>\n",
       "</table>\n",
       "<p>55489 rows × 176 columns</p>\n",
       "</div>"
      ],
      "text/plain": [
       "                                id  WORLDCLIM_BIO1_annual_mean_temperature  \\\n",
       "0      train_images/192027691.jpeg                               12.235703   \n",
       "1      train_images/195542235.jpeg                               17.270555   \n",
       "2      train_images/196639184.jpeg                               14.254504   \n",
       "3      train_images/195728812.jpeg                               18.680834   \n",
       "4      train_images/195251545.jpeg                                0.673204   \n",
       "...                            ...                                     ...   \n",
       "55484  train_images/190558785.jpeg                               19.472172   \n",
       "55485  train_images/194523231.jpeg                               13.724150   \n",
       "55486  train_images/195888987.jpeg                               14.741204   \n",
       "55487  train_images/135487319.jpeg                               16.094763   \n",
       "55488  train_images/146608105.jpeg                               24.559971   \n",
       "\n",
       "       WORLDCLIM_BIO12_annual_precipitation  \\\n",
       "0                                374.466675   \n",
       "1                                 90.239998   \n",
       "2                                902.071411   \n",
       "3                               1473.933350   \n",
       "4                                530.088867   \n",
       "...                                     ...   \n",
       "55484                            244.795914   \n",
       "55485                           1450.000000   \n",
       "55486                            581.866638   \n",
       "55487                           1180.838135   \n",
       "55488                           1748.857178   \n",
       "\n",
       "       WORLDCLIM_BIO13.BIO14_delta_precipitation_of_wettest_and_dryest_month  \\\n",
       "0                                              62.524445                       \n",
       "1                                              10.351111                       \n",
       "2                                              49.642857                       \n",
       "3                                             163.100006                       \n",
       "4                                              50.857777                       \n",
       "...                                                  ...                       \n",
       "55484                                          39.127552                       \n",
       "55485                                         162.260208                       \n",
       "55486                                         109.231110                       \n",
       "55487                                          80.176193                       \n",
       "55488                                         272.821442                       \n",
       "\n",
       "       WORLDCLIM_BIO15_precipitation_seasonality  \\\n",
       "0                                      72.256844   \n",
       "1                                      38.220940   \n",
       "2                                      17.873655   \n",
       "3                                      45.009758   \n",
       "4                                      38.230709   \n",
       "...                                          ...   \n",
       "55484                                  67.074493   \n",
       "55485                                  43.139324   \n",
       "55486                                  89.272148   \n",
       "55487                                  22.909716   \n",
       "55488                                  51.363777   \n",
       "\n",
       "       WORLDCLIM_BIO4_temperature_seasonality  \\\n",
       "0                                  773.592041   \n",
       "1                                  859.193298   \n",
       "2                                  387.977753   \n",
       "3                                  381.053986   \n",
       "4                                 1323.526855   \n",
       "...                                       ...   \n",
       "55484                              472.710358   \n",
       "55485                              652.716858   \n",
       "55486                              507.273010   \n",
       "55487                              342.184021   \n",
       "55488                               73.158348   \n",
       "\n",
       "       WORLDCLIM_BIO7_temperature_annual_range  SOIL_bdod_0.5cm_mean_0.01_deg  \\\n",
       "0                                    33.277779                            125   \n",
       "1                                    40.009777                            124   \n",
       "2                                    22.807142                            107   \n",
       "3                                    20.436666                            120   \n",
       "4                                    45.891998                             91   \n",
       "...                                        ...                            ...   \n",
       "55484                                27.758673                            118   \n",
       "55485                                26.694387                            125   \n",
       "55486                                26.874668                            118   \n",
       "55487                                17.346189                            109   \n",
       "55488                                13.400000                            124   \n",
       "\n",
       "       SOIL_bdod_100.200cm_mean_0.01_deg  SOIL_bdod_15.30cm_mean_0.01_deg  \\\n",
       "0                                    149                              136   \n",
       "1                                    144                              138   \n",
       "2                                    133                              119   \n",
       "3                                    131                              125   \n",
       "4                                    146                              120   \n",
       "...                                  ...                              ...   \n",
       "55484                                140                              131   \n",
       "55485                                144                              135   \n",
       "55486                                155                              136   \n",
       "55487                                130                              117   \n",
       "55488                                135                              131   \n",
       "\n",
       "       ...  X18_mean    X26_mean  X50_mean   X3112_mean     X4_sd    X11_sd  \\\n",
       "0      ...  0.117484    1.243779  1.849375    50.216034  0.008921  1.601473   \n",
       "1      ...  0.389315    0.642940  1.353468   574.098472  0.003102  0.258078   \n",
       "2      ...  8.552908    0.395241  2.343153  1130.096731       NaN       NaN   \n",
       "3      ...  1.083629    0.154200  1.155308  1042.686546  0.011692  2.818356   \n",
       "4      ...  0.657585   10.919966  2.246226  2386.467180  0.006157  1.128000   \n",
       "...    ...       ...         ...       ...          ...       ...       ...   \n",
       "55484  ...  0.233690    1.783193  1.608341   969.547831       NaN       NaN   \n",
       "55485  ...  1.017099   12.713048  2.418300  1630.015480  0.005474  0.128133   \n",
       "55486  ...  2.717395   10.206478  2.722599   602.229880  0.019727  0.215040   \n",
       "55487  ...  4.429659    9.372170  3.251739   244.387170       NaN       NaN   \n",
       "55488  ...  5.827227  154.773325  1.523978  3740.065672  0.004373  0.231755   \n",
       "\n",
       "         X18_sd     X26_sd    X50_sd    X3112_sd  \n",
       "0      0.025441   0.153608  0.279610   15.045054  \n",
       "1      0.000866   0.034630  0.010165   11.004477  \n",
       "2           NaN        NaN       NaN         NaN  \n",
       "3      0.110673   0.011334  0.229224  141.857187  \n",
       "4      0.026996   0.553815  0.107092   87.146899  \n",
       "...         ...        ...       ...         ...  \n",
       "55484       NaN        NaN       NaN         NaN  \n",
       "55485  0.117010   3.164520  0.082212  136.503697  \n",
       "55486  0.156309   0.919139  0.079395   26.159626  \n",
       "55487       NaN        NaN       NaN         NaN  \n",
       "55488  0.039644  10.867344  0.009248  250.744389  \n",
       "\n",
       "[55489 rows x 176 columns]"
      ]
     },
     "execution_count": 54,
     "metadata": {},
     "output_type": "execute_result"
    }
   ],
   "source": [
    "train_df"
   ]
  },
  {
   "cell_type": "code",
   "execution_count": 55,
   "metadata": {},
   "outputs": [],
   "source": [
    "quntilelist=np.array(train_df[label_features].quantile([0,0.99]))\n",
    "IQR=quntilelist[1]-quntilelist[0]\n",
    "low_bound=quntilelist[0]-1.5*IQR\n",
    "upper_bound=quntilelist[1]+1.5*IQR\n",
    "for i in range(len(label_features)):\n",
    "    train_df = train_df[(train_df[label_features[i]] < upper_bound[i]) & (train_df[label_features[i]] > low_bound[i]) | train_df[label_features[i]].isna()]"
   ]
  },
  {
   "cell_type": "code",
   "execution_count": 56,
   "metadata": {},
   "outputs": [],
   "source": [
    "quntilelist=np.array(train_df[sd_features].quantile([0,0.95]))\n",
    "IQR=quntilelist[1]-quntilelist[0]\n",
    "low_bound=quntilelist[0]-1.5*IQR\n",
    "upper_bound=quntilelist[1]+1.5*IQR\n",
    "for i in range(len(sd_features)):\n",
    "    train_df = train_df[(train_df[sd_features[i]] < upper_bound[i]) & (train_df[sd_features[i]] > low_bound[i]) | train_df[sd_features[i]].isna()]"
   ]
  },
  {
   "cell_type": "code",
   "execution_count": 57,
   "metadata": {},
   "outputs": [
    {
     "data": {
      "text/html": [
       "<div>\n",
       "<style scoped>\n",
       "    .dataframe tbody tr th:only-of-type {\n",
       "        vertical-align: middle;\n",
       "    }\n",
       "\n",
       "    .dataframe tbody tr th {\n",
       "        vertical-align: top;\n",
       "    }\n",
       "\n",
       "    .dataframe thead th {\n",
       "        text-align: right;\n",
       "    }\n",
       "</style>\n",
       "<table border=\"1\" class=\"dataframe\">\n",
       "  <thead>\n",
       "    <tr style=\"text-align: right;\">\n",
       "      <th></th>\n",
       "      <th>id</th>\n",
       "      <th>WORLDCLIM_BIO1_annual_mean_temperature</th>\n",
       "      <th>WORLDCLIM_BIO12_annual_precipitation</th>\n",
       "      <th>WORLDCLIM_BIO13.BIO14_delta_precipitation_of_wettest_and_dryest_month</th>\n",
       "      <th>WORLDCLIM_BIO15_precipitation_seasonality</th>\n",
       "      <th>WORLDCLIM_BIO4_temperature_seasonality</th>\n",
       "      <th>WORLDCLIM_BIO7_temperature_annual_range</th>\n",
       "      <th>SOIL_bdod_0.5cm_mean_0.01_deg</th>\n",
       "      <th>SOIL_bdod_100.200cm_mean_0.01_deg</th>\n",
       "      <th>SOIL_bdod_15.30cm_mean_0.01_deg</th>\n",
       "      <th>...</th>\n",
       "      <th>X18_mean</th>\n",
       "      <th>X26_mean</th>\n",
       "      <th>X50_mean</th>\n",
       "      <th>X3112_mean</th>\n",
       "      <th>X4_sd</th>\n",
       "      <th>X11_sd</th>\n",
       "      <th>X18_sd</th>\n",
       "      <th>X26_sd</th>\n",
       "      <th>X50_sd</th>\n",
       "      <th>X3112_sd</th>\n",
       "    </tr>\n",
       "  </thead>\n",
       "  <tbody>\n",
       "    <tr>\n",
       "      <th>0</th>\n",
       "      <td>train_images/192027691.jpeg</td>\n",
       "      <td>12.235703</td>\n",
       "      <td>374.466675</td>\n",
       "      <td>62.524445</td>\n",
       "      <td>72.256844</td>\n",
       "      <td>773.592041</td>\n",
       "      <td>33.277779</td>\n",
       "      <td>125</td>\n",
       "      <td>149</td>\n",
       "      <td>136</td>\n",
       "      <td>...</td>\n",
       "      <td>0.117484</td>\n",
       "      <td>1.243779</td>\n",
       "      <td>1.849375</td>\n",
       "      <td>50.216034</td>\n",
       "      <td>0.008921</td>\n",
       "      <td>1.601473</td>\n",
       "      <td>0.025441</td>\n",
       "      <td>0.153608</td>\n",
       "      <td>0.279610</td>\n",
       "      <td>15.045054</td>\n",
       "    </tr>\n",
       "    <tr>\n",
       "      <th>1</th>\n",
       "      <td>train_images/195542235.jpeg</td>\n",
       "      <td>17.270555</td>\n",
       "      <td>90.239998</td>\n",
       "      <td>10.351111</td>\n",
       "      <td>38.220940</td>\n",
       "      <td>859.193298</td>\n",
       "      <td>40.009777</td>\n",
       "      <td>124</td>\n",
       "      <td>144</td>\n",
       "      <td>138</td>\n",
       "      <td>...</td>\n",
       "      <td>0.389315</td>\n",
       "      <td>0.642940</td>\n",
       "      <td>1.353468</td>\n",
       "      <td>574.098472</td>\n",
       "      <td>0.003102</td>\n",
       "      <td>0.258078</td>\n",
       "      <td>0.000866</td>\n",
       "      <td>0.034630</td>\n",
       "      <td>0.010165</td>\n",
       "      <td>11.004477</td>\n",
       "    </tr>\n",
       "    <tr>\n",
       "      <th>2</th>\n",
       "      <td>train_images/196639184.jpeg</td>\n",
       "      <td>14.254504</td>\n",
       "      <td>902.071411</td>\n",
       "      <td>49.642857</td>\n",
       "      <td>17.873655</td>\n",
       "      <td>387.977753</td>\n",
       "      <td>22.807142</td>\n",
       "      <td>107</td>\n",
       "      <td>133</td>\n",
       "      <td>119</td>\n",
       "      <td>...</td>\n",
       "      <td>8.552908</td>\n",
       "      <td>0.395241</td>\n",
       "      <td>2.343153</td>\n",
       "      <td>1130.096731</td>\n",
       "      <td>NaN</td>\n",
       "      <td>NaN</td>\n",
       "      <td>NaN</td>\n",
       "      <td>NaN</td>\n",
       "      <td>NaN</td>\n",
       "      <td>NaN</td>\n",
       "    </tr>\n",
       "    <tr>\n",
       "      <th>3</th>\n",
       "      <td>train_images/195728812.jpeg</td>\n",
       "      <td>18.680834</td>\n",
       "      <td>1473.933350</td>\n",
       "      <td>163.100006</td>\n",
       "      <td>45.009758</td>\n",
       "      <td>381.053986</td>\n",
       "      <td>20.436666</td>\n",
       "      <td>120</td>\n",
       "      <td>131</td>\n",
       "      <td>125</td>\n",
       "      <td>...</td>\n",
       "      <td>1.083629</td>\n",
       "      <td>0.154200</td>\n",
       "      <td>1.155308</td>\n",
       "      <td>1042.686546</td>\n",
       "      <td>0.011692</td>\n",
       "      <td>2.818356</td>\n",
       "      <td>0.110673</td>\n",
       "      <td>0.011334</td>\n",
       "      <td>0.229224</td>\n",
       "      <td>141.857187</td>\n",
       "    </tr>\n",
       "    <tr>\n",
       "      <th>4</th>\n",
       "      <td>train_images/195251545.jpeg</td>\n",
       "      <td>0.673204</td>\n",
       "      <td>530.088867</td>\n",
       "      <td>50.857777</td>\n",
       "      <td>38.230709</td>\n",
       "      <td>1323.526855</td>\n",
       "      <td>45.891998</td>\n",
       "      <td>91</td>\n",
       "      <td>146</td>\n",
       "      <td>120</td>\n",
       "      <td>...</td>\n",
       "      <td>0.657585</td>\n",
       "      <td>10.919966</td>\n",
       "      <td>2.246226</td>\n",
       "      <td>2386.467180</td>\n",
       "      <td>0.006157</td>\n",
       "      <td>1.128000</td>\n",
       "      <td>0.026996</td>\n",
       "      <td>0.553815</td>\n",
       "      <td>0.107092</td>\n",
       "      <td>87.146899</td>\n",
       "    </tr>\n",
       "    <tr>\n",
       "      <th>...</th>\n",
       "      <td>...</td>\n",
       "      <td>...</td>\n",
       "      <td>...</td>\n",
       "      <td>...</td>\n",
       "      <td>...</td>\n",
       "      <td>...</td>\n",
       "      <td>...</td>\n",
       "      <td>...</td>\n",
       "      <td>...</td>\n",
       "      <td>...</td>\n",
       "      <td>...</td>\n",
       "      <td>...</td>\n",
       "      <td>...</td>\n",
       "      <td>...</td>\n",
       "      <td>...</td>\n",
       "      <td>...</td>\n",
       "      <td>...</td>\n",
       "      <td>...</td>\n",
       "      <td>...</td>\n",
       "      <td>...</td>\n",
       "      <td>...</td>\n",
       "    </tr>\n",
       "    <tr>\n",
       "      <th>55484</th>\n",
       "      <td>train_images/190558785.jpeg</td>\n",
       "      <td>19.472172</td>\n",
       "      <td>244.795914</td>\n",
       "      <td>39.127552</td>\n",
       "      <td>67.074493</td>\n",
       "      <td>472.710358</td>\n",
       "      <td>27.758673</td>\n",
       "      <td>118</td>\n",
       "      <td>140</td>\n",
       "      <td>131</td>\n",
       "      <td>...</td>\n",
       "      <td>0.233690</td>\n",
       "      <td>1.783193</td>\n",
       "      <td>1.608341</td>\n",
       "      <td>969.547831</td>\n",
       "      <td>NaN</td>\n",
       "      <td>NaN</td>\n",
       "      <td>NaN</td>\n",
       "      <td>NaN</td>\n",
       "      <td>NaN</td>\n",
       "      <td>NaN</td>\n",
       "    </tr>\n",
       "    <tr>\n",
       "      <th>55485</th>\n",
       "      <td>train_images/194523231.jpeg</td>\n",
       "      <td>13.724150</td>\n",
       "      <td>1450.000000</td>\n",
       "      <td>162.260208</td>\n",
       "      <td>43.139324</td>\n",
       "      <td>652.716858</td>\n",
       "      <td>26.694387</td>\n",
       "      <td>125</td>\n",
       "      <td>144</td>\n",
       "      <td>135</td>\n",
       "      <td>...</td>\n",
       "      <td>1.017099</td>\n",
       "      <td>12.713048</td>\n",
       "      <td>2.418300</td>\n",
       "      <td>1630.015480</td>\n",
       "      <td>0.005474</td>\n",
       "      <td>0.128133</td>\n",
       "      <td>0.117010</td>\n",
       "      <td>3.164520</td>\n",
       "      <td>0.082212</td>\n",
       "      <td>136.503697</td>\n",
       "    </tr>\n",
       "    <tr>\n",
       "      <th>55486</th>\n",
       "      <td>train_images/195888987.jpeg</td>\n",
       "      <td>14.741204</td>\n",
       "      <td>581.866638</td>\n",
       "      <td>109.231110</td>\n",
       "      <td>89.272148</td>\n",
       "      <td>507.273010</td>\n",
       "      <td>26.874668</td>\n",
       "      <td>118</td>\n",
       "      <td>155</td>\n",
       "      <td>136</td>\n",
       "      <td>...</td>\n",
       "      <td>2.717395</td>\n",
       "      <td>10.206478</td>\n",
       "      <td>2.722599</td>\n",
       "      <td>602.229880</td>\n",
       "      <td>0.019727</td>\n",
       "      <td>0.215040</td>\n",
       "      <td>0.156309</td>\n",
       "      <td>0.919139</td>\n",
       "      <td>0.079395</td>\n",
       "      <td>26.159626</td>\n",
       "    </tr>\n",
       "    <tr>\n",
       "      <th>55487</th>\n",
       "      <td>train_images/135487319.jpeg</td>\n",
       "      <td>16.094763</td>\n",
       "      <td>1180.838135</td>\n",
       "      <td>80.176193</td>\n",
       "      <td>22.909716</td>\n",
       "      <td>342.184021</td>\n",
       "      <td>17.346189</td>\n",
       "      <td>109</td>\n",
       "      <td>130</td>\n",
       "      <td>117</td>\n",
       "      <td>...</td>\n",
       "      <td>4.429659</td>\n",
       "      <td>9.372170</td>\n",
       "      <td>3.251739</td>\n",
       "      <td>244.387170</td>\n",
       "      <td>NaN</td>\n",
       "      <td>NaN</td>\n",
       "      <td>NaN</td>\n",
       "      <td>NaN</td>\n",
       "      <td>NaN</td>\n",
       "      <td>NaN</td>\n",
       "    </tr>\n",
       "    <tr>\n",
       "      <th>55488</th>\n",
       "      <td>train_images/146608105.jpeg</td>\n",
       "      <td>24.559971</td>\n",
       "      <td>1748.857178</td>\n",
       "      <td>272.821442</td>\n",
       "      <td>51.363777</td>\n",
       "      <td>73.158348</td>\n",
       "      <td>13.400000</td>\n",
       "      <td>124</td>\n",
       "      <td>135</td>\n",
       "      <td>131</td>\n",
       "      <td>...</td>\n",
       "      <td>5.827227</td>\n",
       "      <td>154.773325</td>\n",
       "      <td>1.523978</td>\n",
       "      <td>3740.065672</td>\n",
       "      <td>0.004373</td>\n",
       "      <td>0.231755</td>\n",
       "      <td>0.039644</td>\n",
       "      <td>10.867344</td>\n",
       "      <td>0.009248</td>\n",
       "      <td>250.744389</td>\n",
       "    </tr>\n",
       "  </tbody>\n",
       "</table>\n",
       "<p>52397 rows × 176 columns</p>\n",
       "</div>"
      ],
      "text/plain": [
       "                                id  WORLDCLIM_BIO1_annual_mean_temperature  \\\n",
       "0      train_images/192027691.jpeg                               12.235703   \n",
       "1      train_images/195542235.jpeg                               17.270555   \n",
       "2      train_images/196639184.jpeg                               14.254504   \n",
       "3      train_images/195728812.jpeg                               18.680834   \n",
       "4      train_images/195251545.jpeg                                0.673204   \n",
       "...                            ...                                     ...   \n",
       "55484  train_images/190558785.jpeg                               19.472172   \n",
       "55485  train_images/194523231.jpeg                               13.724150   \n",
       "55486  train_images/195888987.jpeg                               14.741204   \n",
       "55487  train_images/135487319.jpeg                               16.094763   \n",
       "55488  train_images/146608105.jpeg                               24.559971   \n",
       "\n",
       "       WORLDCLIM_BIO12_annual_precipitation  \\\n",
       "0                                374.466675   \n",
       "1                                 90.239998   \n",
       "2                                902.071411   \n",
       "3                               1473.933350   \n",
       "4                                530.088867   \n",
       "...                                     ...   \n",
       "55484                            244.795914   \n",
       "55485                           1450.000000   \n",
       "55486                            581.866638   \n",
       "55487                           1180.838135   \n",
       "55488                           1748.857178   \n",
       "\n",
       "       WORLDCLIM_BIO13.BIO14_delta_precipitation_of_wettest_and_dryest_month  \\\n",
       "0                                              62.524445                       \n",
       "1                                              10.351111                       \n",
       "2                                              49.642857                       \n",
       "3                                             163.100006                       \n",
       "4                                              50.857777                       \n",
       "...                                                  ...                       \n",
       "55484                                          39.127552                       \n",
       "55485                                         162.260208                       \n",
       "55486                                         109.231110                       \n",
       "55487                                          80.176193                       \n",
       "55488                                         272.821442                       \n",
       "\n",
       "       WORLDCLIM_BIO15_precipitation_seasonality  \\\n",
       "0                                      72.256844   \n",
       "1                                      38.220940   \n",
       "2                                      17.873655   \n",
       "3                                      45.009758   \n",
       "4                                      38.230709   \n",
       "...                                          ...   \n",
       "55484                                  67.074493   \n",
       "55485                                  43.139324   \n",
       "55486                                  89.272148   \n",
       "55487                                  22.909716   \n",
       "55488                                  51.363777   \n",
       "\n",
       "       WORLDCLIM_BIO4_temperature_seasonality  \\\n",
       "0                                  773.592041   \n",
       "1                                  859.193298   \n",
       "2                                  387.977753   \n",
       "3                                  381.053986   \n",
       "4                                 1323.526855   \n",
       "...                                       ...   \n",
       "55484                              472.710358   \n",
       "55485                              652.716858   \n",
       "55486                              507.273010   \n",
       "55487                              342.184021   \n",
       "55488                               73.158348   \n",
       "\n",
       "       WORLDCLIM_BIO7_temperature_annual_range  SOIL_bdod_0.5cm_mean_0.01_deg  \\\n",
       "0                                    33.277779                            125   \n",
       "1                                    40.009777                            124   \n",
       "2                                    22.807142                            107   \n",
       "3                                    20.436666                            120   \n",
       "4                                    45.891998                             91   \n",
       "...                                        ...                            ...   \n",
       "55484                                27.758673                            118   \n",
       "55485                                26.694387                            125   \n",
       "55486                                26.874668                            118   \n",
       "55487                                17.346189                            109   \n",
       "55488                                13.400000                            124   \n",
       "\n",
       "       SOIL_bdod_100.200cm_mean_0.01_deg  SOIL_bdod_15.30cm_mean_0.01_deg  \\\n",
       "0                                    149                              136   \n",
       "1                                    144                              138   \n",
       "2                                    133                              119   \n",
       "3                                    131                              125   \n",
       "4                                    146                              120   \n",
       "...                                  ...                              ...   \n",
       "55484                                140                              131   \n",
       "55485                                144                              135   \n",
       "55486                                155                              136   \n",
       "55487                                130                              117   \n",
       "55488                                135                              131   \n",
       "\n",
       "       ...  X18_mean    X26_mean  X50_mean   X3112_mean     X4_sd    X11_sd  \\\n",
       "0      ...  0.117484    1.243779  1.849375    50.216034  0.008921  1.601473   \n",
       "1      ...  0.389315    0.642940  1.353468   574.098472  0.003102  0.258078   \n",
       "2      ...  8.552908    0.395241  2.343153  1130.096731       NaN       NaN   \n",
       "3      ...  1.083629    0.154200  1.155308  1042.686546  0.011692  2.818356   \n",
       "4      ...  0.657585   10.919966  2.246226  2386.467180  0.006157  1.128000   \n",
       "...    ...       ...         ...       ...          ...       ...       ...   \n",
       "55484  ...  0.233690    1.783193  1.608341   969.547831       NaN       NaN   \n",
       "55485  ...  1.017099   12.713048  2.418300  1630.015480  0.005474  0.128133   \n",
       "55486  ...  2.717395   10.206478  2.722599   602.229880  0.019727  0.215040   \n",
       "55487  ...  4.429659    9.372170  3.251739   244.387170       NaN       NaN   \n",
       "55488  ...  5.827227  154.773325  1.523978  3740.065672  0.004373  0.231755   \n",
       "\n",
       "         X18_sd     X26_sd    X50_sd    X3112_sd  \n",
       "0      0.025441   0.153608  0.279610   15.045054  \n",
       "1      0.000866   0.034630  0.010165   11.004477  \n",
       "2           NaN        NaN       NaN         NaN  \n",
       "3      0.110673   0.011334  0.229224  141.857187  \n",
       "4      0.026996   0.553815  0.107092   87.146899  \n",
       "...         ...        ...       ...         ...  \n",
       "55484       NaN        NaN       NaN         NaN  \n",
       "55485  0.117010   3.164520  0.082212  136.503697  \n",
       "55486  0.156309   0.919139  0.079395   26.159626  \n",
       "55487       NaN        NaN       NaN         NaN  \n",
       "55488  0.039644  10.867344  0.009248  250.744389  \n",
       "\n",
       "[52397 rows x 176 columns]"
      ]
     },
     "execution_count": 57,
     "metadata": {},
     "output_type": "execute_result"
    }
   ],
   "source": [
    "train_df"
   ]
  },
  {
   "cell_type": "code",
   "execution_count": 58,
   "metadata": {},
   "outputs": [],
   "source": [
    "label_df = train_df[label_features+sd_features]\n",
    "train_df = train_df.drop(columns = label_features+sd_features)\n",
    "# label_df = np.log1p(label_df)"
   ]
  },
  {
   "cell_type": "code",
   "execution_count": 59,
   "metadata": {},
   "outputs": [],
   "source": [
    "x_train,x_val,y_train,y_val = train_test_split(train_df, label_df, test_size=0.1)\n",
    "x_train_images = np.array(x_train['id']) \n",
    "x_train = x_train.drop(columns = 'id')\n",
    "x_val_images = np.array(x_val['id']) \n",
    "x_val = x_val.drop(columns = 'id')\n",
    "y_train,y_val = np.array(y_train).astype(np.float32), np.array(y_val).astype(np.float32)"
   ]
  },
  {
   "cell_type": "code",
   "execution_count": 60,
   "metadata": {},
   "outputs": [],
   "source": [
    "scaler = Normalizer()\n",
    "train_features = scaler.fit_transform(x_train[FEATURE_COLS].values).astype(np.float32)\n",
    "valid_features = scaler.transform(x_val[FEATURE_COLS].values).astype(np.float32)\n",
    "\n",
    "# scaler_y = Normalizer()\n",
    "# train_labels = y_train\n",
    "# y_train = scaler_y.fit_transform(y_train).astype(np.float32)\n",
    "# y_val = scaler_y.transform(y_val).astype(np.float32)\n",
    "y_train = np.array(y_train).astype(np.float32)\n",
    "y_val = np.array(y_val).astype(np.float32)\n",
    "train_labels = y_train[:,:6]\n",
    "train_labels_aux = y_train[:,6:]\n",
    "val_labels = y_val[:,:6]\n",
    "val_labels_aux = y_val[:,6:]\n",
    "\n",
    "train_features[np.isnan(train_features)] = -1\n",
    "valid_features[np.isnan(valid_features)] = -1\n",
    "train_labels[np.isnan(train_labels)] = -1\n",
    "train_labels_aux[np.isnan(train_labels_aux)] = -1\n",
    "val_labels[np.isnan(val_labels)] = -1\n",
    "val_labels_aux[np.isnan(val_labels_aux)] = -1"
   ]
  },
  {
   "cell_type": "code",
   "execution_count": 61,
   "metadata": {},
   "outputs": [],
   "source": [
    "train_dataset = [(x_train_images[i], train_features[i],train_labels[i], train_labels_aux[i] ) for i in range(len(x_train_images))]\n",
    "val_dataset = [(x_val_images[i], valid_features[i],val_labels[i],val_labels_aux[i]) for i in range(len(x_val_images))]\n",
    "train_loader = DataLoader(dataset = train_dataset, batch_size=BATCH_SIZE , shuffle= True, num_workers = 2)\n",
    "val_loader = DataLoader(dataset = val_dataset, batch_size=BATCH_SIZE , shuffle= False, num_workers = 2)"
   ]
  },
  {
   "cell_type": "code",
   "execution_count": 62,
   "metadata": {},
   "outputs": [],
   "source": [
    "class MLP(nn.Module):\n",
    "    def __init__(self) -> None:\n",
    "        super(MLP,self).__init__()\n",
    "        self.linear1 = nn.Sequential(nn.Linear(163, 128), nn.BatchNorm1d(128), nn.SELU(), nn.Dropout())\n",
    "        self.linear2 = nn.Sequential(nn.Linear(128, 64), nn.BatchNorm1d(64), nn.SELU(), nn.Dropout())\n",
    "    def forward(self, x):\n",
    "        x = self.linear1(x)\n",
    "        x = self.linear2(x)\n",
    "        return x\n",
    "\n",
    "class Combine_model(nn.Module):\n",
    "    def __init__(self) -> None:\n",
    "        super(Combine_model,self).__init__()\n",
    "        self.model1 = timm.create_model('convnext_tiny',pretrained=True)\n",
    "        self.model1.head.fc=nn.Sequential(\n",
    "            nn.Linear(self.model1.head.fc.in_features, 128), \n",
    "            nn.BatchNorm1d(128), \n",
    "            nn.Tanh(),\n",
    "            nn.Dropout()\n",
    "        )\n",
    "        self.model2 = MLP()\n",
    "        self.fc = nn.Linear(128+64, 6)\n",
    "        self.out_fc1 = nn.Sequential(\n",
    "            nn.Linear(128+64,24), \n",
    "            nn.BatchNorm1d(24), \n",
    "            nn.ReLU(),\n",
    "        )\n",
    "        self.out_fc2 = nn.Linear(24,6)\n",
    "        self.out_fc3 = nn.Linear(24,6)\n",
    "    def forward(self,x,y):\n",
    "        x = self.model1(x)\n",
    "        y = self.model2(y)\n",
    "        x = torch.cat([x,y], dim = 1)\n",
    "        x = self.out_fc1(x)\n",
    "        return self.out_fc2(x), self.out_fc3(x)\n"
   ]
  },
  {
   "cell_type": "code",
   "execution_count": 63,
   "metadata": {},
   "outputs": [],
   "source": [
    "train_transform = transforms.Compose([\n",
    "        transforms.Resize((img_size, img_size)),\n",
    "        transforms.ColorJitter(brightness=0.1, contrast=0.1, saturation=(0.45, 0.55), hue=0.1),\n",
    "        transforms.RandomHorizontalFlip(p=0.5),\n",
    "        transforms.RandomRotation((-10,10)),\n",
    "        transforms.RandomResizedCrop(size=img_size, scale=(0.8, 1.0), ratio=(0.8, 1.25)),\n",
    "        transforms.ToTensor(),\n",
    "        transforms.Normalize(mean=[0.5,0.5,0.5], std=[0.5,0.5,0.5])\n",
    "    ])\n",
    "valid_transform = transforms.Compose([\n",
    "    transforms.Resize((img_size, img_size)),\n",
    "    transforms.ToTensor(),\n",
    "    transforms.Normalize(mean=[0.5,0.5,0.5], std=[0.5,0.5,0.5])\n",
    "])  \n"
   ]
  },
  {
   "cell_type": "code",
   "execution_count": 64,
   "metadata": {},
   "outputs": [],
   "source": [
    "import ssl\n",
    "ssl._create_default_https_context = ssl._create_unverified_context"
   ]
  },
  {
   "cell_type": "code",
   "execution_count": 65,
   "metadata": {},
   "outputs": [],
   "source": [
    "class R2Loss(nn.Module):\n",
    "    def __init__(self, use_mask=False):\n",
    "        super(R2Loss, self).__init__()\n",
    "        self.use_mask = use_mask\n",
    "\n",
    "    def forward(self,y_pred , y_true):\n",
    "        if self.use_mask:\n",
    "            mask = (y_true != -1)\n",
    "            y_true = torch.where(mask, y_true, torch.zeros_like(y_true))\n",
    "            y_pred = torch.where(mask, y_pred, torch.zeros_like(y_pred))\n",
    "        SS_res = torch.sum((y_true - y_pred) ** 2,axis=0)\n",
    "        SS_tot = torch.sum((y_true - torch.mean(y_true, 1, True)) ** 2,axis=0)\n",
    "        r2_loss = SS_res / (SS_tot + 1e-6)\n",
    "        return torch.mean(r2_loss)\n",
    "    \n",
    "\n",
    "class MSELoss(nn.Module):\n",
    "    def __init__(self, use_mask=False):\n",
    "        super(MSELoss, self).__init__()\n",
    "        self.use_mask = use_mask\n",
    "\n",
    "    def forward(self, y_pred, y_true):\n",
    "        if self.use_mask:\n",
    "            mask = (y_true != -1)\n",
    "            y_true = torch.where(mask, y_true, torch.zeros_like(y_true))\n",
    "            y_pred = torch.where(mask, y_pred, torch.zeros_like(y_pred))\n",
    "        mse_loss = torch.mean((y_true - y_pred) ** 2)\n",
    "        return mse_loss"
   ]
  },
  {
   "cell_type": "code",
   "execution_count": 66,
   "metadata": {},
   "outputs": [],
   "source": [
    "def train_epoch(train_loader,model, criterion1, criterion2, optimizer, scheduler, device, img_size):\n",
    "    model.train()\n",
    "    total_loss = 0\n",
    "    for i, data in tqdm(enumerate(train_loader)):\n",
    "        # Unpack data\n",
    "        img_path, inputs, labels, labels_aux = data\n",
    "\n",
    "        # Prepare image paths\n",
    "        # # Prepare inputs and labels\n",
    "        inputs = inputs.to(device)\n",
    "        labels = labels.to(device)\n",
    "        labels_aux = labels_aux.to(device)\n",
    "\n",
    "        # Load and transform images\n",
    "        batch_size = len(img_path)\n",
    "        images = torch.zeros(batch_size, 3, img_size, img_size, dtype=torch.float32)\n",
    "        for i in range(batch_size):\n",
    "            # image = cv2.imread(img_path[i]).numpy()\n",
    "            image = Image.open(img_path[i]).convert(\"RGB\")\n",
    "            # images[i] = image\n",
    "            images[i] = train_transform(image)  # Assuming train_transform is defined elsewhere\n",
    "        # Forward pass\n",
    "        images = images.to(device)\n",
    "        output1,output2 = model(images, inputs)\n",
    "        # Backward and optimize\n",
    "        optimizer.zero_grad()\n",
    "        loss1 = criterion1[0](output1, labels)       \n",
    "        loss2 = criterion2[0](output2,labels_aux) \n",
    "        loss = loss1 + 0.1*loss2\n",
    "        loss.backward()\n",
    "        optimizer.step()\n",
    "        scheduler.step()\n",
    "        total_loss += loss.item()\n",
    "    avg_loss = total_loss / len(train_loader)\n",
    "\n",
    "    return avg_loss"
   ]
  },
  {
   "cell_type": "code",
   "execution_count": 67,
   "metadata": {},
   "outputs": [],
   "source": [
    "def evaluate_epoch(test_loader,model,criterion1,criterion2,device, img_size):\n",
    "    model.eval()\n",
    "\n",
    "    total_loss = 0\n",
    "    total_r2_loss = 0\n",
    "    output = []\n",
    "    total_label = []\n",
    "    with torch.no_grad():\n",
    "        for i, data in tqdm(enumerate(test_loader)):\n",
    "            # Unpack data\n",
    "            img_path, inputs, labels, labels_aux = data\n",
    "            # img_path = ['/Users/zhangyumeng/Desktop/23Winter/273P/project/planttraits2024/'+i for i in img_path]\n",
    "            # Prepare image paths\n",
    "            # # Prepare inputs and labels\n",
    "            inputs = inputs.to(device)\n",
    "            labels = labels.to(device)\n",
    "            labels_aux = labels_aux.to(device)\n",
    "\n",
    "            batch_size = len(img_path)\n",
    "            images = torch.zeros(batch_size, 3, img_size, img_size, dtype=torch.float32)\n",
    "\n",
    "            for j in range(batch_size):\n",
    "                image = Image.open(img_path[j]).convert(\"RGB\")\n",
    "                images[j] = valid_transform(image)   # Assuming train_transform is defined elsewhere\n",
    "            # Forward pass\n",
    "            images = images.to(device)\n",
    "            output1,output2 = model(images, inputs)\n",
    "            output.append(output1)\n",
    "            total_label.append(labels)\n",
    "            loss1 = criterion1[0](output1, labels) + 0.2*criterion2[0](output2,labels_aux)     \n",
    "            loss2 = criterion1[0](output1, labels)\n",
    "            total_r2_loss += loss2.item()\n",
    "            total_loss += loss1.item()\n",
    "\n",
    "        avg_loss = total_loss/len(test_loader)\n",
    "        avg_r2_loss = total_r2_loss/len(test_loader)\n",
    "        total_r2 = criterion1[0](torch.cat(output, dim = 0), torch.cat(total_label, dim = 0))\n",
    "    return avg_loss, avg_r2_loss, total_r2\n",
    "    "
   ]
  },
  {
   "cell_type": "code",
   "execution_count": 68,
   "metadata": {},
   "outputs": [
    {
     "name": "stdout",
     "output_type": "stream",
     "text": [
      "epoch 0\n"
     ]
    },
    {
     "name": "stderr",
     "output_type": "stream",
     "text": [
      "369it [06:25,  1.05s/it]\n",
      "41it [00:18,  2.27it/s]\n"
     ]
    },
    {
     "name": "stdout",
     "output_type": "stream",
     "text": [
      "Train_loss is: 0.27790666805696357, test loss is: 0.29712587885740327, test R2 loss is: 0.24871244917555554, test R2 is: 0.752230167388916, current best result: 0.752230167388916\n",
      "epoch 1\n"
     ]
    },
    {
     "name": "stderr",
     "output_type": "stream",
     "text": [
      "369it [06:23,  1.04s/it]\n",
      "41it [00:17,  2.39it/s]\n"
     ]
    },
    {
     "name": "stdout",
     "output_type": "stream",
     "text": [
      "Train_loss is: 0.2780462838608398, test loss is: 0.29704564955176377, test R2 loss is: 0.2486501815842419, test R2 is: 0.7522822022438049, current best result: 0.7522822022438049\n",
      "epoch 2\n"
     ]
    },
    {
     "name": "stderr",
     "output_type": "stream",
     "text": [
      "369it [06:18,  1.03s/it]\n",
      "41it [00:17,  2.39it/s]\n"
     ]
    },
    {
     "name": "stdout",
     "output_type": "stream",
     "text": [
      "Train_loss is: 0.2785352541179192, test loss is: 0.29706280623994225, test R2 loss is: 0.24866486431621923, test R2 is: 0.7522704601287842, current best result: 0.7522822022438049\n",
      "epoch 3\n"
     ]
    },
    {
     "name": "stderr",
     "output_type": "stream",
     "text": [
      "369it [06:12,  1.01s/it]\n",
      "41it [00:17,  2.41it/s]\n"
     ]
    },
    {
     "name": "stdout",
     "output_type": "stream",
     "text": [
      "Train_loss is: 0.2780764520491365, test loss is: 0.29704867485092906, test R2 loss is: 0.24865226011450697, test R2 is: 0.7522816061973572, current best result: 0.7522822022438049\n",
      "epoch 4\n"
     ]
    },
    {
     "name": "stderr",
     "output_type": "stream",
     "text": [
      "369it [06:12,  1.01s/it]\n",
      "41it [00:16,  2.43it/s]\n"
     ]
    },
    {
     "name": "stdout",
     "output_type": "stream",
     "text": [
      "Train_loss is: 0.27804523342993204, test loss is: 0.2970523063729449, test R2 loss is: 0.24865601884155739, test R2 is: 0.752278745174408, current best result: 0.7522822022438049\n",
      "epoch 5\n"
     ]
    },
    {
     "name": "stderr",
     "output_type": "stream",
     "text": [
      "369it [06:10,  1.00s/it]\n",
      "41it [00:17,  2.37it/s]\n"
     ]
    },
    {
     "name": "stdout",
     "output_type": "stream",
     "text": [
      "Train_loss is: 0.27774814078155247, test loss is: 0.2970409509612293, test R2 loss is: 0.24864886264975478, test R2 is: 0.7522845268249512, current best result: 0.7522845268249512\n",
      "epoch 6\n"
     ]
    },
    {
     "name": "stderr",
     "output_type": "stream",
     "text": [
      "369it [06:12,  1.01s/it]\n",
      "41it [00:17,  2.39it/s]\n"
     ]
    },
    {
     "name": "stdout",
     "output_type": "stream",
     "text": [
      "Train_loss is: 0.2769782245159149, test loss is: 0.29701298402576914, test R2 loss is: 0.24862985167561508, test R2 is: 0.7523009181022644, current best result: 0.7523009181022644\n",
      "epoch 7\n"
     ]
    },
    {
     "name": "stderr",
     "output_type": "stream",
     "text": [
      "369it [06:13,  1.01s/it]\n",
      "41it [00:16,  2.43it/s]\n"
     ]
    },
    {
     "name": "stdout",
     "output_type": "stream",
     "text": [
      "Train_loss is: 0.2782779292362492, test loss is: 0.29703494761048294, test R2 loss is: 0.24865170513711324, test R2 is: 0.7522822618484497, current best result: 0.7523009181022644\n",
      "epoch 8\n"
     ]
    },
    {
     "name": "stderr",
     "output_type": "stream",
     "text": [
      "369it [06:09,  1.00s/it]\n",
      "41it [00:17,  2.40it/s]\n"
     ]
    },
    {
     "name": "stdout",
     "output_type": "stream",
     "text": [
      "Train_loss is: 0.27734265894424626, test loss is: 0.2969898145373275, test R2 loss is: 0.24861986317285678, test R2 is: 0.7523092031478882, current best result: 0.7523092031478882\n",
      "epoch 9\n"
     ]
    },
    {
     "name": "stderr",
     "output_type": "stream",
     "text": [
      "369it [06:12,  1.01s/it]\n",
      "41it [00:17,  2.41it/s]\n"
     ]
    },
    {
     "name": "stdout",
     "output_type": "stream",
     "text": [
      "Train_loss is: 0.27781105534171024, test loss is: 0.29699746937286564, test R2 loss is: 0.24862729449097704, test R2 is: 0.7523027658462524, current best result: 0.7523092031478882\n",
      "epoch 10\n"
     ]
    },
    {
     "name": "stderr",
     "output_type": "stream",
     "text": [
      "369it [06:12,  1.01s/it]\n",
      "41it [00:17,  2.39it/s]\n"
     ]
    },
    {
     "name": "stdout",
     "output_type": "stream",
     "text": [
      "Train_loss is: 0.2781093292604617, test loss is: 0.2969829585494065, test R2 loss is: 0.24861999255854908, test R2 is: 0.7523087859153748, current best result: 0.7523092031478882\n",
      "epoch 11\n"
     ]
    },
    {
     "name": "stderr",
     "output_type": "stream",
     "text": [
      "369it [06:13,  1.01s/it]\n",
      "41it [00:16,  2.45it/s]\n"
     ]
    },
    {
     "name": "stdout",
     "output_type": "stream",
     "text": [
      "Train_loss is: 0.2781658180683932, test loss is: 0.2970126423893905, test R2 loss is: 0.24864070081129308, test R2 is: 0.7522910833358765, current best result: 0.7523092031478882\n",
      "epoch 12\n"
     ]
    },
    {
     "name": "stderr",
     "output_type": "stream",
     "text": [
      "369it [06:12,  1.01s/it]\n",
      "41it [00:17,  2.38it/s]\n"
     ]
    },
    {
     "name": "stdout",
     "output_type": "stream",
     "text": [
      "Train_loss is: 0.27778997330807736, test loss is: 0.2969241062315499, test R2 loss is: 0.2485849784641731, test R2 is: 0.7523378729820251, current best result: 0.7523378729820251\n",
      "epoch 13\n"
     ]
    },
    {
     "name": "stderr",
     "output_type": "stream",
     "text": [
      "369it [06:10,  1.00s/it]\n",
      "41it [00:17,  2.39it/s]\n"
     ]
    },
    {
     "name": "stdout",
     "output_type": "stream",
     "text": [
      "Train_loss is: 0.2771230789865582, test loss is: 0.2969782112575159, test R2 loss is: 0.24861976358948684, test R2 is: 0.7523088455200195, current best result: 0.7523378729820251\n",
      "epoch 14\n"
     ]
    },
    {
     "name": "stderr",
     "output_type": "stream",
     "text": [
      "369it [06:12,  1.01s/it]\n",
      "41it [00:16,  2.41it/s]\n"
     ]
    },
    {
     "name": "stdout",
     "output_type": "stream",
     "text": [
      "Train_loss is: 0.2780720702193294, test loss is: 0.29698228472616617, test R2 loss is: 0.24862239527993085, test R2 is: 0.7523066401481628, current best result: 0.7523378729820251\n",
      "epoch 15\n"
     ]
    },
    {
     "name": "stderr",
     "output_type": "stream",
     "text": [
      "369it [06:09,  1.00s/it]\n",
      "41it [00:16,  2.41it/s]\n"
     ]
    },
    {
     "name": "stdout",
     "output_type": "stream",
     "text": [
      "Train_loss is: 0.2774400563259435, test loss is: 0.29698156438222745, test R2 loss is: 0.24862145832399044, test R2 is: 0.7523074150085449, current best result: 0.7523378729820251\n",
      "epoch 16\n"
     ]
    },
    {
     "name": "stderr",
     "output_type": "stream",
     "text": [
      "369it [06:10,  1.00s/it]\n",
      "41it [00:16,  2.43it/s]\n"
     ]
    },
    {
     "name": "stdout",
     "output_type": "stream",
     "text": [
      "Train_loss is: 0.27768644375529716, test loss is: 0.29698350734826995, test R2 loss is: 0.2486235383080273, test R2 is: 0.7523054480552673, current best result: 0.7523378729820251\n",
      "epoch 17\n"
     ]
    },
    {
     "name": "stderr",
     "output_type": "stream",
     "text": [
      "369it [06:10,  1.00s/it]\n",
      "41it [00:16,  2.43it/s]\n"
     ]
    },
    {
     "name": "stdout",
     "output_type": "stream",
     "text": [
      "Train_loss is: 0.2776092487945143, test loss is: 0.2969825863838196, test R2 loss is: 0.2486234739786241, test R2 is: 0.7523054480552673, current best result: 0.7523378729820251\n",
      "epoch 18\n"
     ]
    },
    {
     "name": "stderr",
     "output_type": "stream",
     "text": [
      "369it [06:11,  1.01s/it]\n",
      "41it [00:16,  2.44it/s]\n"
     ]
    },
    {
     "name": "stdout",
     "output_type": "stream",
     "text": [
      "Train_loss is: 0.2774751826030452, test loss is: 0.2969903676975064, test R2 loss is: 0.2486269103317726, test R2 is: 0.7523026466369629, current best result: 0.7523378729820251\n",
      "epoch 19\n"
     ]
    },
    {
     "name": "stderr",
     "output_type": "stream",
     "text": [
      "369it [06:11,  1.01s/it]\n",
      "41it [00:17,  2.41it/s]\n"
     ]
    },
    {
     "name": "stdout",
     "output_type": "stream",
     "text": [
      "Train_loss is: 0.2774171228331279, test loss is: 0.2970055319914004, test R2 loss is: 0.24863684286431567, test R2 is: 0.7522942423820496, current best result: 0.7523378729820251\n",
      "epoch 20\n"
     ]
    },
    {
     "name": "stderr",
     "output_type": "stream",
     "text": [
      "369it [06:12,  1.01s/it]\n",
      "41it [00:17,  2.40it/s]\n"
     ]
    },
    {
     "name": "stdout",
     "output_type": "stream",
     "text": [
      "Train_loss is: 0.2778035428142806, test loss is: 0.29699313567905894, test R2 loss is: 0.248629274891644, test R2 is: 0.7523003816604614, current best result: 0.7523378729820251\n",
      "epoch 21\n"
     ]
    },
    {
     "name": "stderr",
     "output_type": "stream",
     "text": [
      "369it [06:08,  1.00it/s]\n",
      "41it [00:17,  2.40it/s]\n"
     ]
    },
    {
     "name": "stdout",
     "output_type": "stream",
     "text": [
      "Train_loss is: 0.27785480232419685, test loss is: 0.2969986592851034, test R2 loss is: 0.24863209411865328, test R2 is: 0.7522979974746704, current best result: 0.7523378729820251\n",
      "epoch 22\n"
     ]
    },
    {
     "name": "stderr",
     "output_type": "stream",
     "text": [
      "369it [06:09,  1.00s/it]\n",
      "41it [00:16,  2.45it/s]\n"
     ]
    },
    {
     "name": "stdout",
     "output_type": "stream",
     "text": [
      "Train_loss is: 0.27738059326239073, test loss is: 0.29699267846782035, test R2 loss is: 0.24862818201867545, test R2 is: 0.7523012161254883, current best result: 0.7523378729820251\n",
      "epoch 23\n"
     ]
    },
    {
     "name": "stderr",
     "output_type": "stream",
     "text": [
      "369it [06:09,  1.00s/it]\n",
      "41it [00:16,  2.46it/s]\n"
     ]
    },
    {
     "name": "stdout",
     "output_type": "stream",
     "text": [
      "Train_loss is: 0.27763682733060224, test loss is: 0.296994760269072, test R2 loss is: 0.24862996434293141, test R2 is: 0.7522995471954346, current best result: 0.7523378729820251\n",
      "epoch 24\n"
     ]
    },
    {
     "name": "stderr",
     "output_type": "stream",
     "text": [
      "369it [06:07,  1.00it/s]\n",
      "41it [00:16,  2.44it/s]\n"
     ]
    },
    {
     "name": "stdout",
     "output_type": "stream",
     "text": [
      "Train_loss is: 0.2776639763578813, test loss is: 0.297018017710709, test R2 loss is: 0.24864355710948385, test R2 is: 0.7522881031036377, current best result: 0.7523378729820251\n",
      "epoch 25\n"
     ]
    },
    {
     "name": "stderr",
     "output_type": "stream",
     "text": [
      "369it [06:10,  1.00s/it]\n",
      "41it [00:16,  2.42it/s]\n"
     ]
    },
    {
     "name": "stdout",
     "output_type": "stream",
     "text": [
      "Train_loss is: 0.2782178404854565, test loss is: 0.2969758248910671, test R2 loss is: 0.2486186122022024, test R2 is: 0.7523088455200195, current best result: 0.7523378729820251\n",
      "epoch 26\n"
     ]
    },
    {
     "name": "stderr",
     "output_type": "stream",
     "text": [
      "369it [06:07,  1.00it/s]\n",
      "41it [00:16,  2.45it/s]\n"
     ]
    },
    {
     "name": "stdout",
     "output_type": "stream",
     "text": [
      "Train_loss is: 0.27767935645612596, test loss is: 0.2970122782195487, test R2 loss is: 0.24864004188921393, test R2 is: 0.7522909641265869, current best result: 0.7523378729820251\n",
      "epoch 27\n"
     ]
    },
    {
     "name": "stderr",
     "output_type": "stream",
     "text": [
      "369it [06:09,  1.00s/it]\n",
      "41it [00:16,  2.44it/s]\n"
     ]
    },
    {
     "name": "stdout",
     "output_type": "stream",
     "text": [
      "Train_loss is: 0.27797283551234214, test loss is: 0.2970160071442767, test R2 loss is: 0.2486424860430927, test R2 is: 0.7522889375686646, current best result: 0.7523378729820251\n",
      "epoch 28\n"
     ]
    },
    {
     "name": "stderr",
     "output_type": "stream",
     "text": [
      "369it [06:09,  1.00s/it]\n",
      "41it [00:16,  2.42it/s]\n"
     ]
    },
    {
     "name": "stdout",
     "output_type": "stream",
     "text": [
      "Train_loss is: 0.2776808227465405, test loss is: 0.29702506705028253, test R2 loss is: 0.2486480885162586, test R2 is: 0.7522841691970825, current best result: 0.7523378729820251\n",
      "epoch 29\n"
     ]
    },
    {
     "name": "stderr",
     "output_type": "stream",
     "text": [
      "369it [06:09,  1.00s/it]\n",
      "41it [00:16,  2.43it/s]\n"
     ]
    },
    {
     "name": "stdout",
     "output_type": "stream",
     "text": [
      "Train_loss is: 0.2783030189149748, test loss is: 0.297030681517066, test R2 loss is: 0.2486513507802312, test R2 is: 0.7522813677787781, current best result: 0.7523378729820251\n",
      "epoch 30\n"
     ]
    },
    {
     "name": "stderr",
     "output_type": "stream",
     "text": [
      "369it [06:09,  1.00s/it]\n",
      "41it [00:17,  2.38it/s]\n"
     ]
    },
    {
     "name": "stdout",
     "output_type": "stream",
     "text": [
      "Train_loss is: 0.27760306477223634, test loss is: 0.2970286382407677, test R2 loss is: 0.24865057155853365, test R2 is: 0.7522820234298706, current best result: 0.7523378729820251\n",
      "epoch 31\n"
     ]
    },
    {
     "name": "stderr",
     "output_type": "stream",
     "text": [
      "369it [06:07,  1.01it/s]\n",
      "41it [00:16,  2.43it/s]\n"
     ]
    },
    {
     "name": "stdout",
     "output_type": "stream",
     "text": [
      "Train_loss is: 0.2776974639110772, test loss is: 0.2970447838306427, test R2 loss is: 0.24866062148315152, test R2 is: 0.7522733211517334, current best result: 0.7523378729820251\n",
      "epoch 32\n"
     ]
    },
    {
     "name": "stderr",
     "output_type": "stream",
     "text": [
      "369it [06:08,  1.00it/s]\n",
      "41it [00:16,  2.41it/s]\n"
     ]
    },
    {
     "name": "stdout",
     "output_type": "stream",
     "text": [
      "Train_loss is: 0.27746065457661945, test loss is: 0.29702533454429814, test R2 loss is: 0.24864810886906413, test R2 is: 0.7522839307785034, current best result: 0.7523378729820251\n",
      "epoch 33\n"
     ]
    },
    {
     "name": "stderr",
     "output_type": "stream",
     "text": [
      "369it [06:09,  1.00s/it]\n",
      "41it [00:17,  2.39it/s]\n"
     ]
    },
    {
     "name": "stdout",
     "output_type": "stream",
     "text": [
      "Train_loss is: 0.27780608013070374, test loss is: 0.2970433104328993, test R2 loss is: 0.24865962455912335, test R2 is: 0.7522741556167603, current best result: 0.7523378729820251\n",
      "epoch 34\n"
     ]
    },
    {
     "name": "stderr",
     "output_type": "stream",
     "text": [
      "369it [06:06,  1.01it/s]\n",
      "41it [00:16,  2.43it/s]\n"
     ]
    },
    {
     "name": "stdout",
     "output_type": "stream",
     "text": [
      "Train_loss is: 0.27815776643391227, test loss is: 0.2970441056460869, test R2 loss is: 0.24866017626553047, test R2 is: 0.752273678779602, current best result: 0.7523378729820251\n",
      "epoch 35\n"
     ]
    },
    {
     "name": "stderr",
     "output_type": "stream",
     "text": [
      "369it [06:08,  1.00it/s]\n",
      "41it [00:17,  2.40it/s]\n"
     ]
    },
    {
     "name": "stdout",
     "output_type": "stream",
     "text": [
      "Train_loss is: 0.2777630079406387, test loss is: 0.2970473693638313, test R2 loss is: 0.2486619687661892, test R2 is: 0.7522721290588379, current best result: 0.7523378729820251\n",
      "epoch 36\n"
     ]
    },
    {
     "name": "stderr",
     "output_type": "stream",
     "text": [
      "369it [06:10,  1.00s/it]\n",
      "41it [00:16,  2.45it/s]\n"
     ]
    },
    {
     "name": "stdout",
     "output_type": "stream",
     "text": [
      "Train_loss is: 0.27832258264546794, test loss is: 0.29705116734272097, test R2 loss is: 0.24866478581254076, test R2 is: 0.7522697448730469, current best result: 0.7523378729820251\n",
      "epoch 37\n"
     ]
    },
    {
     "name": "stderr",
     "output_type": "stream",
     "text": [
      "369it [06:09,  1.00s/it]\n",
      "41it [00:17,  2.40it/s]\n"
     ]
    },
    {
     "name": "stdout",
     "output_type": "stream",
     "text": [
      "Train_loss is: 0.2777548140788143, test loss is: 0.29705230346540124, test R2 loss is: 0.24866563009052742, test R2 is: 0.75226891040802, current best result: 0.7523378729820251\n",
      "epoch 38\n"
     ]
    },
    {
     "name": "stderr",
     "output_type": "stream",
     "text": [
      "369it [06:09,  1.00s/it]\n",
      "41it [00:16,  2.45it/s]\n"
     ]
    },
    {
     "name": "stdout",
     "output_type": "stream",
     "text": [
      "Train_loss is: 0.2784689910366606, test loss is: 0.29705208321897, test R2 loss is: 0.24866528990792064, test R2 is: 0.7522692084312439, current best result: 0.7523378729820251\n",
      "epoch 39\n"
     ]
    },
    {
     "name": "stderr",
     "output_type": "stream",
     "text": [
      "369it [06:09,  1.00s/it]\n",
      "41it [00:16,  2.46it/s]\n"
     ]
    },
    {
     "name": "stdout",
     "output_type": "stream",
     "text": [
      "Train_loss is: 0.27766247097715774, test loss is: 0.29705597641991405, test R2 loss is: 0.24866760722020778, test R2 is: 0.7522672414779663, current best result: 0.7523378729820251\n",
      "epoch 40\n"
     ]
    },
    {
     "name": "stderr",
     "output_type": "stream",
     "text": [
      "369it [06:10,  1.00s/it]\n",
      "41it [00:16,  2.44it/s]\n"
     ]
    },
    {
     "name": "stdout",
     "output_type": "stream",
     "text": [
      "Train_loss is: 0.27782047925602776, test loss is: 0.29705908749161697, test R2 loss is: 0.24866977951875546, test R2 is: 0.7522653341293335, current best result: 0.7523378729820251\n",
      "epoch 41\n"
     ]
    },
    {
     "name": "stderr",
     "output_type": "stream",
     "text": [
      "369it [06:09,  1.00s/it]\n",
      "41it [00:16,  2.47it/s]\n"
     ]
    },
    {
     "name": "stdout",
     "output_type": "stream",
     "text": [
      "Train_loss is: 0.27727196371652246, test loss is: 0.2970617806039205, test R2 loss is: 0.24867123110992154, test R2 is: 0.7522640824317932, current best result: 0.7523378729820251\n",
      "epoch 42\n"
     ]
    },
    {
     "name": "stderr",
     "output_type": "stream",
     "text": [
      "369it [06:09,  1.00s/it]\n",
      "41it [00:17,  2.39it/s]\n"
     ]
    },
    {
     "name": "stdout",
     "output_type": "stream",
     "text": [
      "Train_loss is: 0.2778838999710755, test loss is: 0.2970655567762328, test R2 loss is: 0.2486739093210639, test R2 is: 0.7522616982460022, current best result: 0.7523378729820251\n",
      "epoch 43\n"
     ]
    },
    {
     "name": "stderr",
     "output_type": "stream",
     "text": [
      "369it [06:08,  1.00it/s]\n",
      "41it [00:17,  2.39it/s]\n"
     ]
    },
    {
     "name": "stdout",
     "output_type": "stream",
     "text": [
      "Train_loss is: 0.277882483108903, test loss is: 0.2970645478585871, test R2 loss is: 0.24867298799317059, test R2 is: 0.752262532711029, current best result: 0.7523378729820251\n",
      "epoch 44\n"
     ]
    },
    {
     "name": "stderr",
     "output_type": "stream",
     "text": [
      "369it [06:07,  1.00it/s]\n",
      "41it [00:16,  2.43it/s]\n"
     ]
    },
    {
     "name": "stdout",
     "output_type": "stream",
     "text": [
      "Train_loss is: 0.27782105575732097, test loss is: 0.2970692835203031, test R2 loss is: 0.2486762498937002, test R2 is: 0.7522597312927246, current best result: 0.7523378729820251\n",
      "epoch 45\n"
     ]
    },
    {
     "name": "stderr",
     "output_type": "stream",
     "text": [
      "369it [06:06,  1.01it/s]\n",
      "41it [00:17,  2.40it/s]\n"
     ]
    },
    {
     "name": "stdout",
     "output_type": "stream",
     "text": [
      "Train_loss is: 0.27797812465729754, test loss is: 0.2970677490641431, test R2 loss is: 0.2486751221302079, test R2 is: 0.752260684967041, current best result: 0.7523378729820251\n",
      "epoch 46\n"
     ]
    },
    {
     "name": "stderr",
     "output_type": "stream",
     "text": [
      "369it [06:07,  1.00it/s]\n",
      "41it [00:16,  2.43it/s]\n"
     ]
    },
    {
     "name": "stdout",
     "output_type": "stream",
     "text": [
      "Train_loss is: 0.277485681258566, test loss is: 0.29707066605730753, test R2 loss is: 0.2486769931345451, test R2 is: 0.7522590160369873, current best result: 0.7523378729820251\n",
      "epoch 47\n"
     ]
    },
    {
     "name": "stderr",
     "output_type": "stream",
     "text": [
      "369it [06:09,  1.00s/it]\n",
      "41it [00:16,  2.46it/s]\n"
     ]
    },
    {
     "name": "stdout",
     "output_type": "stream",
     "text": [
      "Train_loss is: 0.27810590998913215, test loss is: 0.29707252397769834, test R2 loss is: 0.24867814706593025, test R2 is: 0.7522580623626709, current best result: 0.7523378729820251\n",
      "epoch 48\n"
     ]
    },
    {
     "name": "stderr",
     "output_type": "stream",
     "text": [
      "369it [06:06,  1.01it/s]\n",
      "41it [00:16,  2.45it/s]\n"
     ]
    },
    {
     "name": "stdout",
     "output_type": "stream",
     "text": [
      "Train_loss is: 0.27796618208329527, test loss is: 0.29707453018281516, test R2 loss is: 0.24867941439151764, test R2 is: 0.7522569298744202, current best result: 0.7523378729820251\n",
      "epoch 49\n"
     ]
    },
    {
     "name": "stderr",
     "output_type": "stream",
     "text": [
      "369it [06:08,  1.00it/s]\n",
      "41it [00:16,  2.45it/s]\n"
     ]
    },
    {
     "name": "stdout",
     "output_type": "stream",
     "text": [
      "Train_loss is: 0.27815802601294787, test loss is: 0.2970755943437902, test R2 loss is: 0.24868017180663785, test R2 is: 0.7522562742233276, current best result: 0.7523378729820251\n",
      "epoch 50\n"
     ]
    },
    {
     "name": "stderr",
     "output_type": "stream",
     "text": [
      "369it [06:10,  1.00s/it]\n",
      "41it [00:16,  2.44it/s]\n"
     ]
    },
    {
     "name": "stdout",
     "output_type": "stream",
     "text": [
      "Train_loss is: 0.27786445302691887, test loss is: 0.29707720366919915, test R2 loss is: 0.24868109967650437, test R2 is: 0.7522554397583008, current best result: 0.7523378729820251\n",
      "epoch 51\n"
     ]
    },
    {
     "name": "stderr",
     "output_type": "stream",
     "text": [
      "369it [06:09,  1.00s/it]\n",
      "41it [00:16,  2.41it/s]\n"
     ]
    },
    {
     "name": "stdout",
     "output_type": "stream",
     "text": [
      "Train_loss is: 0.2785181244860497, test loss is: 0.29707819368781113, test R2 loss is: 0.24868172225428792, test R2 is: 0.7522549629211426, current best result: 0.7523378729820251\n",
      "epoch 52\n"
     ]
    },
    {
     "name": "stderr",
     "output_type": "stream",
     "text": [
      "369it [06:08,  1.00it/s]\n",
      "41it [00:16,  2.42it/s]\n"
     ]
    },
    {
     "name": "stdout",
     "output_type": "stream",
     "text": [
      "Train_loss is: 0.27714012171517866, test loss is: 0.29707819950289843, test R2 loss is: 0.24868175060283848, test R2 is: 0.7522549629211426, current best result: 0.7523378729820251\n",
      "epoch 53\n"
     ]
    },
    {
     "name": "stderr",
     "output_type": "stream",
     "text": [
      "369it [06:13,  1.01s/it]\n",
      "41it [00:17,  2.39it/s]\n"
     ]
    },
    {
     "name": "stdout",
     "output_type": "stream",
     "text": [
      "Train_loss is: 0.2784925473091725, test loss is: 0.2970779407315138, test R2 loss is: 0.24868158669006535, test R2 is: 0.7522550821304321, current best result: 0.7523378729820251\n",
      "epoch 54\n"
     ]
    },
    {
     "name": "stderr",
     "output_type": "stream",
     "text": [
      "369it [06:14,  1.01s/it]\n",
      "41it [00:17,  2.38it/s]\n"
     ]
    },
    {
     "name": "stdout",
     "output_type": "stream",
     "text": [
      "Train_loss is: 0.2775744244981264, test loss is: 0.29707804758374284, test R2 loss is: 0.2486817197101872, test R2 is: 0.7522549629211426, current best result: 0.7523378729820251\n",
      "epoch 55\n"
     ]
    },
    {
     "name": "stderr",
     "output_type": "stream",
     "text": [
      "369it [06:15,  1.02s/it]\n",
      "41it [00:17,  2.41it/s]\n"
     ]
    },
    {
     "name": "stdout",
     "output_type": "stream",
     "text": [
      "Train_loss is: 0.2784137973778939, test loss is: 0.29707798870598395, test R2 loss is: 0.2486816273956764, test R2 is: 0.7522550225257874, current best result: 0.7523378729820251\n",
      "epoch 56\n"
     ]
    },
    {
     "name": "stderr",
     "output_type": "stream",
     "text": [
      "369it [06:14,  1.01s/it]\n",
      "41it [00:17,  2.38it/s]\n"
     ]
    },
    {
     "name": "stdout",
     "output_type": "stream",
     "text": [
      "Train_loss is: 0.27824661773717824, test loss is: 0.29707828818297966, test R2 loss is: 0.2486817651405567, test R2 is: 0.7522549033164978, current best result: 0.7523378729820251\n",
      "epoch 57\n"
     ]
    },
    {
     "name": "stderr",
     "output_type": "stream",
     "text": [
      "369it [06:09,  1.00s/it]\n",
      "41it [00:17,  2.39it/s]\n"
     ]
    },
    {
     "name": "stdout",
     "output_type": "stream",
     "text": [
      "Train_loss is: 0.27738830237207696, test loss is: 0.29707831943907387, test R2 loss is: 0.24868181202469802, test R2 is: 0.752254843711853, current best result: 0.7523378729820251\n",
      "epoch 58\n"
     ]
    },
    {
     "name": "stderr",
     "output_type": "stream",
     "text": [
      "369it [06:10,  1.00s/it]\n",
      "41it [00:16,  2.45it/s]\n"
     ]
    },
    {
     "name": "stdout",
     "output_type": "stream",
     "text": [
      "Train_loss is: 0.27776578173727845, test loss is: 0.29707815734351556, test R2 loss is: 0.24868175060283848, test R2 is: 0.7522549033164978, current best result: 0.7523378729820251\n",
      "epoch 59\n"
     ]
    },
    {
     "name": "stderr",
     "output_type": "stream",
     "text": [
      "369it [06:08,  1.00it/s]\n",
      "41it [00:16,  2.46it/s]\n"
     ]
    },
    {
     "name": "stdout",
     "output_type": "stream",
     "text": [
      "Train_loss is: 0.27781416439428563, test loss is: 0.2970781915071534, test R2 loss is: 0.24868170226492534, test R2 is: 0.7522549629211426, current best result: 0.7523378729820251\n",
      "epoch 60\n"
     ]
    },
    {
     "name": "stderr",
     "output_type": "stream",
     "text": [
      "369it [06:12,  1.01s/it]\n",
      "41it [00:16,  2.46it/s]\n"
     ]
    },
    {
     "name": "stdout",
     "output_type": "stream",
     "text": [
      "Train_loss is: 0.2774812920791347, test loss is: 0.29707827364526146, test R2 loss is: 0.24868176841154332, test R2 is: 0.7522549629211426, current best result: 0.7523378729820251\n",
      "epoch 61\n"
     ]
    },
    {
     "name": "stderr",
     "output_type": "stream",
     "text": [
      "369it [06:09,  1.00s/it]\n",
      "41it [00:17,  2.38it/s]\n"
     ]
    },
    {
     "name": "stdout",
     "output_type": "stream",
     "text": [
      "Train_loss is: 0.2787141425176688, test loss is: 0.2970782285783349, test R2 loss is: 0.2486817891277918, test R2 is: 0.7522549033164978, current best result: 0.7523378729820251\n",
      "epoch 62\n"
     ]
    },
    {
     "name": "stderr",
     "output_type": "stream",
     "text": [
      "369it [06:11,  1.01s/it]\n",
      "41it [00:16,  2.42it/s]\n"
     ]
    },
    {
     "name": "stdout",
     "output_type": "stream",
     "text": [
      "Train_loss is: 0.2782731229858347, test loss is: 0.29707801850830634, test R2 loss is: 0.24868170117459645, test R2 is: 0.7522549629211426, current best result: 0.7523378729820251\n",
      "epoch 63\n"
     ]
    },
    {
     "name": "stderr",
     "output_type": "stream",
     "text": [
      "369it [06:10,  1.00s/it]\n",
      "41it [00:17,  2.38it/s]\n"
     ]
    },
    {
     "name": "stdout",
     "output_type": "stream",
     "text": [
      "Train_loss is: 0.2784156843737212, test loss is: 0.2970782416622813, test R2 loss is: 0.24868177967827496, test R2 is: 0.7522549033164978, current best result: 0.7523378729820251\n",
      "epoch 64\n"
     ]
    },
    {
     "name": "stderr",
     "output_type": "stream",
     "text": [
      "369it [06:10,  1.00s/it]\n",
      "41it [00:17,  2.36it/s]\n"
     ]
    },
    {
     "name": "stdout",
     "output_type": "stream",
     "text": [
      "Train_loss is: 0.27772916389028557, test loss is: 0.29707828018723464, test R2 loss is: 0.24868181202469802, test R2 is: 0.7522549033164978, current best result: 0.7523378729820251\n",
      "epoch 65\n"
     ]
    },
    {
     "name": "stderr",
     "output_type": "stream",
     "text": [
      "369it [06:10,  1.00s/it]\n",
      "41it [00:17,  2.40it/s]\n"
     ]
    },
    {
     "name": "stdout",
     "output_type": "stream",
     "text": [
      "Train_loss is: 0.2786626004914281, test loss is: 0.29707807956672294, test R2 loss is: 0.24868167064538815, test R2 is: 0.7522549629211426, current best result: 0.7523378729820251\n",
      "epoch 66\n"
     ]
    },
    {
     "name": "stderr",
     "output_type": "stream",
     "text": [
      "369it [06:11,  1.01s/it]\n",
      "41it [00:16,  2.46it/s]\n"
     ]
    },
    {
     "name": "stdout",
     "output_type": "stream",
     "text": [
      "Train_loss is: 0.2773766545099295, test loss is: 0.29707804394931325, test R2 loss is: 0.24868169172507962, test R2 is: 0.7522549629211426, current best result: 0.7523378729820251\n",
      "epoch 67\n"
     ]
    },
    {
     "name": "stderr",
     "output_type": "stream",
     "text": [
      "369it [06:09,  1.00s/it]\n",
      "41it [00:17,  2.40it/s]\n"
     ]
    },
    {
     "name": "stdout",
     "output_type": "stream",
     "text": [
      "Train_loss is: 0.27690166243046604, test loss is: 0.2970782220363617, test R2 loss is: 0.24868183237750355, test R2 is: 0.752254843711853, current best result: 0.7523378729820251\n",
      "epoch 68\n"
     ]
    },
    {
     "name": "stderr",
     "output_type": "stream",
     "text": [
      "369it [06:08,  1.00it/s]\n",
      "41it [00:16,  2.44it/s]\n"
     ]
    },
    {
     "name": "stdout",
     "output_type": "stream",
     "text": [
      "Train_loss is: 0.27799072740523795, test loss is: 0.29707826637640233, test R2 loss is: 0.2486818171128994, test R2 is: 0.752254843711853, current best result: 0.7523378729820251\n",
      "epoch 69\n"
     ]
    },
    {
     "name": "stderr",
     "output_type": "stream",
     "text": [
      "369it [06:09,  1.00s/it]\n",
      "41it [00:16,  2.47it/s]\n"
     ]
    },
    {
     "name": "stdout",
     "output_type": "stream",
     "text": [
      "Train_loss is: 0.27815481632705624, test loss is: 0.297078269283946, test R2 loss is: 0.2486817818589327, test R2 is: 0.7522549033164978, current best result: 0.7523378729820251\n",
      "epoch 70\n"
     ]
    },
    {
     "name": "stderr",
     "output_type": "stream",
     "text": [
      "369it [06:56,  1.13s/it]\n",
      "41it [00:19,  2.10it/s]\n"
     ]
    },
    {
     "name": "stdout",
     "output_type": "stream",
     "text": [
      "Train_loss is: 0.2782023311630497, test loss is: 0.29707805485260197, test R2 loss is: 0.24868161467517294, test R2 is: 0.7522550225257874, current best result: 0.7523378729820251\n",
      "epoch 71\n"
     ]
    },
    {
     "name": "stderr",
     "output_type": "stream",
     "text": [
      "369it [08:00,  1.30s/it]\n",
      "41it [00:19,  2.09it/s]\n"
     ]
    },
    {
     "name": "stdout",
     "output_type": "stream",
     "text": [
      "Train_loss is: 0.2779614601516465, test loss is: 0.29707806139457515, test R2 loss is: 0.2486816793680191, test R2 is: 0.7522549629211426, current best result: 0.7523378729820251\n",
      "epoch 72\n"
     ]
    },
    {
     "name": "stderr",
     "output_type": "stream",
     "text": [
      "369it [08:00,  1.30s/it]\n",
      "41it [00:19,  2.13it/s]\n"
     ]
    },
    {
     "name": "stdout",
     "output_type": "stream",
     "text": [
      "Train_loss is: 0.278227591175374, test loss is: 0.2970780519450583, test R2 loss is: 0.2486816746432607, test R2 is: 0.7522549629211426, current best result: 0.7523378729820251\n",
      "epoch 73\n"
     ]
    },
    {
     "name": "stderr",
     "output_type": "stream",
     "text": [
      "369it [07:59,  1.30s/it]\n",
      "41it [00:19,  2.13it/s]\n"
     ]
    },
    {
     "name": "stdout",
     "output_type": "stream",
     "text": [
      "Train_loss is: 0.27832764249830066, test loss is: 0.2970780344997964, test R2 loss is: 0.2486816702819452, test R2 is: 0.7522549629211426, current best result: 0.7523378729820251\n",
      "epoch 74\n"
     ]
    },
    {
     "name": "stderr",
     "output_type": "stream",
     "text": [
      "369it [08:00,  1.30s/it]\n",
      "41it [00:19,  2.09it/s]\n"
     ]
    },
    {
     "name": "stdout",
     "output_type": "stream",
     "text": [
      "Train_loss is: 0.2776980963018205, test loss is: 0.29707804758374284, test R2 loss is: 0.24868162703223345, test R2 is: 0.7522549629211426, current best result: 0.7523378729820251\n",
      "epoch 75\n"
     ]
    },
    {
     "name": "stderr",
     "output_type": "stream",
     "text": [
      "369it [08:00,  1.30s/it]\n",
      "41it [00:19,  2.11it/s]\n"
     ]
    },
    {
     "name": "stdout",
     "output_type": "stream",
     "text": [
      "Train_loss is: 0.2776986373472343, test loss is: 0.29707813626382407, test R2 loss is: 0.2486817444243082, test R2 is: 0.7522549629211426, current best result: 0.7523378729820251\n",
      "epoch 76\n"
     ]
    },
    {
     "name": "stderr",
     "output_type": "stream",
     "text": [
      "369it [08:00,  1.30s/it]\n",
      "41it [00:19,  2.08it/s]\n"
     ]
    },
    {
     "name": "stdout",
     "output_type": "stream",
     "text": [
      "Train_loss is: 0.2779274063543252, test loss is: 0.297077914563621, test R2 loss is: 0.24868163212043484, test R2 is: 0.7522549629211426, current best result: 0.7523378729820251\n",
      "epoch 77\n"
     ]
    },
    {
     "name": "stderr",
     "output_type": "stream",
     "text": [
      "369it [08:00,  1.30s/it]\n",
      "41it [00:19,  2.09it/s]\n"
     ]
    },
    {
     "name": "stdout",
     "output_type": "stream",
     "text": [
      "Train_loss is: 0.2781412043384097, test loss is: 0.2970780512181724, test R2 loss is: 0.2486816241246898, test R2 is: 0.7522550225257874, current best result: 0.7523378729820251\n",
      "epoch 78\n"
     ]
    },
    {
     "name": "stderr",
     "output_type": "stream",
     "text": [
      "369it [08:01,  1.30s/it]\n",
      "41it [00:19,  2.09it/s]\n"
     ]
    },
    {
     "name": "stdout",
     "output_type": "stream",
     "text": [
      "Train_loss is: 0.2774159355861385, test loss is: 0.29707805994080333, test R2 loss is: 0.24868167500670363, test R2 is: 0.7522549629211426, current best result: 0.7523378729820251\n",
      "epoch 79\n"
     ]
    },
    {
     "name": "stderr",
     "output_type": "stream",
     "text": [
      "369it [08:00,  1.30s/it]\n",
      "41it [00:19,  2.07it/s]\n"
     ]
    },
    {
     "name": "stdout",
     "output_type": "stream",
     "text": [
      "Train_loss is: 0.27807462877697414, test loss is: 0.29707814207891137, test R2 loss is: 0.24868171934674427, test R2 is: 0.7522549629211426, current best result: 0.7523378729820251\n",
      "epoch 80\n"
     ]
    },
    {
     "name": "stderr",
     "output_type": "stream",
     "text": [
      "369it [08:00,  1.30s/it]\n",
      "41it [00:19,  2.15it/s]\n"
     ]
    },
    {
     "name": "stdout",
     "output_type": "stream",
     "text": [
      "Train_loss is: 0.27752467650708146, test loss is: 0.29707804322242737, test R2 loss is: 0.24868172334461677, test R2 is: 0.7522549629211426, current best result: 0.7523378729820251\n",
      "epoch 81\n"
     ]
    },
    {
     "name": "stderr",
     "output_type": "stream",
     "text": [
      "369it [08:00,  1.30s/it]\n",
      "41it [00:19,  2.10it/s]\n"
     ]
    },
    {
     "name": "stdout",
     "output_type": "stream",
     "text": [
      "Train_loss is: 0.27846990440919145, test loss is: 0.2970780228696218, test R2 loss is: 0.24868166155931426, test R2 is: 0.7522549629211426, current best result: 0.7523378729820251\n",
      "epoch 82\n"
     ]
    },
    {
     "name": "stderr",
     "output_type": "stream",
     "text": [
      "369it [08:00,  1.30s/it]\n",
      "41it [00:19,  2.13it/s]\n"
     ]
    },
    {
     "name": "stdout",
     "output_type": "stream",
     "text": [
      "Train_loss is: 0.27846038147685975, test loss is: 0.2970779414583997, test R2 loss is: 0.24868157324267598, test R2 is: 0.7522550821304321, current best result: 0.7523378729820251\n",
      "epoch 83\n"
     ]
    },
    {
     "name": "stderr",
     "output_type": "stream",
     "text": [
      "369it [08:03,  1.31s/it]\n",
      "41it [00:19,  2.13it/s]\n"
     ]
    },
    {
     "name": "stdout",
     "output_type": "stream",
     "text": [
      "Train_loss is: 0.27776941269393857, test loss is: 0.297078038134226, test R2 loss is: 0.24868166301308609, test R2 is: 0.7522549629211426, current best result: 0.7523378729820251\n",
      "epoch 84\n"
     ]
    },
    {
     "name": "stderr",
     "output_type": "stream",
     "text": [
      "369it [08:00,  1.30s/it]\n",
      "41it [00:19,  2.13it/s]\n"
     ]
    },
    {
     "name": "stdout",
     "output_type": "stream",
     "text": [
      "Train_loss is: 0.2773093323558973, test loss is: 0.2970781071883876, test R2 loss is: 0.2486816292128912, test R2 is: 0.7522550225257874, current best result: 0.7523378729820251\n",
      "epoch 85\n"
     ]
    },
    {
     "name": "stderr",
     "output_type": "stream",
     "text": [
      "369it [08:00,  1.30s/it]\n",
      "41it [00:19,  2.06it/s]\n"
     ]
    },
    {
     "name": "stdout",
     "output_type": "stream",
     "text": [
      "Train_loss is: 0.2779390385480431, test loss is: 0.2970781529822001, test R2 loss is: 0.24868175678136872, test R2 is: 0.7522549629211426, current best result: 0.7523378729820251\n",
      "epoch 86\n"
     ]
    },
    {
     "name": "stderr",
     "output_type": "stream",
     "text": [
      "369it [08:00,  1.30s/it]\n",
      "41it [00:19,  2.07it/s]\n"
     ]
    },
    {
     "name": "stdout",
     "output_type": "stream",
     "text": [
      "Train_loss is: 0.27784851516488446, test loss is: 0.29707787749243947, test R2 loss is: 0.24868161394828703, test R2 is: 0.7522550225257874, current best result: 0.7523378729820251\n",
      "epoch 87\n"
     ]
    },
    {
     "name": "stderr",
     "output_type": "stream",
     "text": [
      "369it [08:00,  1.30s/it]\n",
      "41it [00:19,  2.11it/s]\n"
     ]
    },
    {
     "name": "stdout",
     "output_type": "stream",
     "text": [
      "Train_loss is: 0.27783189249555595, test loss is: 0.2970781624317169, test R2 loss is: 0.24868172007363018, test R2 is: 0.7522549629211426, current best result: 0.7523378729820251\n",
      "epoch 88\n"
     ]
    },
    {
     "name": "stderr",
     "output_type": "stream",
     "text": [
      "369it [08:00,  1.30s/it]\n",
      "41it [00:19,  2.08it/s]\n"
     ]
    },
    {
     "name": "stdout",
     "output_type": "stream",
     "text": [
      "Train_loss is: 0.2778938124334909, test loss is: 0.2970781130034749, test R2 loss is: 0.24868169354229439, test R2 is: 0.7522549629211426, current best result: 0.7523378729820251\n",
      "epoch 89\n"
     ]
    },
    {
     "name": "stderr",
     "output_type": "stream",
     "text": [
      "369it [08:01,  1.30s/it]\n",
      "41it [00:19,  2.09it/s]\n"
     ]
    },
    {
     "name": "stdout",
     "output_type": "stream",
     "text": [
      "Train_loss is: 0.278304312771898, test loss is: 0.29707807302474976, test R2 loss is: 0.2486816695550593, test R2 is: 0.7522549629211426, current best result: 0.7523378729820251\n",
      "epoch 90\n"
     ]
    },
    {
     "name": "stderr",
     "output_type": "stream",
     "text": [
      "369it [08:01,  1.30s/it]\n",
      "41it [00:19,  2.08it/s]\n"
     ]
    },
    {
     "name": "stdout",
     "output_type": "stream",
     "text": [
      "Train_loss is: 0.2781730529254045, test loss is: 0.29707801850830634, test R2 loss is: 0.2486816579248847, test R2 is: 0.7522549629211426, current best result: 0.7523378729820251\n",
      "epoch 91\n"
     ]
    },
    {
     "name": "stderr",
     "output_type": "stream",
     "text": [
      "369it [08:01,  1.30s/it]\n",
      "41it [00:19,  2.07it/s]\n"
     ]
    },
    {
     "name": "stdout",
     "output_type": "stream",
     "text": [
      "Train_loss is: 0.27751861112873727, test loss is: 0.29707786004717757, test R2 loss is: 0.24868162049026024, test R2 is: 0.7522550225257874, current best result: 0.7523378729820251\n",
      "epoch 92\n"
     ]
    },
    {
     "name": "stderr",
     "output_type": "stream",
     "text": [
      "369it [08:01,  1.30s/it]\n",
      "41it [00:19,  2.08it/s]\n"
     ]
    },
    {
     "name": "stdout",
     "output_type": "stream",
     "text": [
      "Train_loss is: 0.27779114763265056, test loss is: 0.2970781377175959, test R2 loss is: 0.24868173279413364, test R2 is: 0.7522549629211426, current best result: 0.7523378729820251\n",
      "epoch 93\n"
     ]
    },
    {
     "name": "stderr",
     "output_type": "stream",
     "text": [
      "369it [08:01,  1.31s/it]\n",
      "41it [00:19,  2.13it/s]\n"
     ]
    },
    {
     "name": "stdout",
     "output_type": "stream",
     "text": [
      "Train_loss is: 0.27769082469668815, test loss is: 0.2970781493477705, test R2 loss is: 0.24868170117459645, test R2 is: 0.7522549629211426, current best result: 0.7523378729820251\n",
      "epoch 94\n"
     ]
    },
    {
     "name": "stderr",
     "output_type": "stream",
     "text": [
      "369it [08:00,  1.30s/it]\n",
      "41it [00:19,  2.09it/s]\n"
     ]
    },
    {
     "name": "stdout",
     "output_type": "stream",
     "text": [
      "Train_loss is: 0.2775093302494142, test loss is: 0.2970782045910998, test R2 loss is: 0.24868176150612714, test R2 is: 0.7522549629211426, current best result: 0.7523378729820251\n",
      "epoch 95\n"
     ]
    },
    {
     "name": "stderr",
     "output_type": "stream",
     "text": [
      "369it [08:01,  1.30s/it]\n",
      "41it [00:19,  2.11it/s]\n"
     ]
    },
    {
     "name": "stdout",
     "output_type": "stream",
     "text": [
      "Train_loss is: 0.27736192739752896, test loss is: 0.29707820749864344, test R2 loss is: 0.24868177059220103, test R2 is: 0.7522549033164978, current best result: 0.7523378729820251\n",
      "epoch 96\n"
     ]
    },
    {
     "name": "stderr",
     "output_type": "stream",
     "text": [
      "369it [08:00,  1.30s/it]\n",
      "41it [00:19,  2.08it/s]\n"
     ]
    },
    {
     "name": "stdout",
     "output_type": "stream",
     "text": [
      "Train_loss is: 0.27804053726235056, test loss is: 0.2970780250502796, test R2 loss is: 0.2486817033552542, test R2 is: 0.7522549629211426, current best result: 0.7523378729820251\n",
      "epoch 97\n"
     ]
    },
    {
     "name": "stderr",
     "output_type": "stream",
     "text": [
      "369it [08:00,  1.30s/it]\n",
      "41it [00:19,  2.13it/s]\n"
     ]
    },
    {
     "name": "stdout",
     "output_type": "stream",
     "text": [
      "Train_loss is: 0.2774035380623205, test loss is: 0.297078062848347, test R2 loss is: 0.24868174115332162, test R2 is: 0.7522549629211426, current best result: 0.7523378729820251\n",
      "epoch 98\n"
     ]
    },
    {
     "name": "stderr",
     "output_type": "stream",
     "text": [
      "369it [08:01,  1.30s/it]\n",
      "41it [00:19,  2.09it/s]\n"
     ]
    },
    {
     "name": "stdout",
     "output_type": "stream",
     "text": [
      "Train_loss is: 0.27816631073551124, test loss is: 0.29707807883983706, test R2 loss is: 0.2486816902713078, test R2 is: 0.7522549629211426, current best result: 0.7523378729820251\n",
      "epoch 99\n"
     ]
    },
    {
     "name": "stderr",
     "output_type": "stream",
     "text": [
      "369it [08:00,  1.30s/it]\n",
      "41it [00:19,  2.08it/s]"
     ]
    },
    {
     "name": "stdout",
     "output_type": "stream",
     "text": [
      "Train_loss is: 0.27800230532480774, test loss is: 0.29707804976440055, test R2 loss is: 0.2486816826390057, test R2 is: 0.7522549629211426, current best result: 0.7523378729820251\n"
     ]
    },
    {
     "name": "stderr",
     "output_type": "stream",
     "text": [
      "\n"
     ]
    }
   ],
   "source": [
    "losses = []\n",
    "device = 'cuda' if torch.cuda.is_available() else 'cpu'\n",
    "model = Combine_model().to(device)\n",
    "optimizer = torch.optim.Adam(model.parameters(), weight_decay=weight_decay, lr=LR)\n",
    "scheduler = torch.optim.lr_scheduler.CosineAnnealingLR(optimizer, T_max=MAX_EPOCH, eta_min=0, last_epoch=-1)\n",
    "criterion1 = [R2Loss(use_mask=False), MSELoss(use_mask=False)]\n",
    "criterion2 = [R2Loss(use_mask=True), MSELoss(use_mask=True)]\n",
    "best_r2 = -5\n",
    "for epoch in range(MAX_EPOCH):\n",
    "    print('epoch',epoch)\n",
    "    train_loss = train_epoch(train_loader,model,criterion1,criterion2,optimizer,scheduler,device,img_size)\n",
    "    test_loss, test_r2_loss, total_R2 = evaluate_epoch(val_loader,model, criterion1,criterion2, device, img_size)\n",
    "    best_r2 = max(best_r2, 1 - total_R2)\n",
    "    print(\"Train_loss is: {}, test loss is: {}, test R2 loss is: {}, test R2 is: {}, current best result: {}\".format(train_loss, test_loss, test_r2_loss, 1 - total_R2, best_r2))\n",
    "    losses.append([train_loss, test_r2_loss, test_r2_loss, total_R2])\n",
    "    "
   ]
  },
  {
   "cell_type": "code",
   "execution_count": 71,
   "metadata": {},
   "outputs": [
    {
     "data": {
      "text/plain": [
       "[[0.27790666805696357,\n",
       "  0.24871244917555554,\n",
       "  0.24871244917555554,\n",
       "  tensor(0.2478, device='cuda:0')],\n",
       " [0.2780462838608398,\n",
       "  0.2486501815842419,\n",
       "  0.2486501815842419,\n",
       "  tensor(0.2477, device='cuda:0')],\n",
       " [0.2785352541179192,\n",
       "  0.24866486431621923,\n",
       "  0.24866486431621923,\n",
       "  tensor(0.2477, device='cuda:0')],\n",
       " [0.2780764520491365,\n",
       "  0.24865226011450697,\n",
       "  0.24865226011450697,\n",
       "  tensor(0.2477, device='cuda:0')],\n",
       " [0.27804523342993204,\n",
       "  0.24865601884155739,\n",
       "  0.24865601884155739,\n",
       "  tensor(0.2477, device='cuda:0')],\n",
       " [0.27774814078155247,\n",
       "  0.24864886264975478,\n",
       "  0.24864886264975478,\n",
       "  tensor(0.2477, device='cuda:0')],\n",
       " [0.2769782245159149,\n",
       "  0.24862985167561508,\n",
       "  0.24862985167561508,\n",
       "  tensor(0.2477, device='cuda:0')],\n",
       " [0.2782779292362492,\n",
       "  0.24865170513711324,\n",
       "  0.24865170513711324,\n",
       "  tensor(0.2477, device='cuda:0')],\n",
       " [0.27734265894424626,\n",
       "  0.24861986317285678,\n",
       "  0.24861986317285678,\n",
       "  tensor(0.2477, device='cuda:0')],\n",
       " [0.27781105534171024,\n",
       "  0.24862729449097704,\n",
       "  0.24862729449097704,\n",
       "  tensor(0.2477, device='cuda:0')],\n",
       " [0.2781093292604617,\n",
       "  0.24861999255854908,\n",
       "  0.24861999255854908,\n",
       "  tensor(0.2477, device='cuda:0')],\n",
       " [0.2781658180683932,\n",
       "  0.24864070081129308,\n",
       "  0.24864070081129308,\n",
       "  tensor(0.2477, device='cuda:0')],\n",
       " [0.27778997330807736,\n",
       "  0.2485849784641731,\n",
       "  0.2485849784641731,\n",
       "  tensor(0.2477, device='cuda:0')],\n",
       " [0.2771230789865582,\n",
       "  0.24861976358948684,\n",
       "  0.24861976358948684,\n",
       "  tensor(0.2477, device='cuda:0')],\n",
       " [0.2780720702193294,\n",
       "  0.24862239527993085,\n",
       "  0.24862239527993085,\n",
       "  tensor(0.2477, device='cuda:0')],\n",
       " [0.2774400563259435,\n",
       "  0.24862145832399044,\n",
       "  0.24862145832399044,\n",
       "  tensor(0.2477, device='cuda:0')],\n",
       " [0.27768644375529716,\n",
       "  0.2486235383080273,\n",
       "  0.2486235383080273,\n",
       "  tensor(0.2477, device='cuda:0')],\n",
       " [0.2776092487945143,\n",
       "  0.2486234739786241,\n",
       "  0.2486234739786241,\n",
       "  tensor(0.2477, device='cuda:0')],\n",
       " [0.2774751826030452,\n",
       "  0.2486269103317726,\n",
       "  0.2486269103317726,\n",
       "  tensor(0.2477, device='cuda:0')],\n",
       " [0.2774171228331279,\n",
       "  0.24863684286431567,\n",
       "  0.24863684286431567,\n",
       "  tensor(0.2477, device='cuda:0')],\n",
       " [0.2778035428142806,\n",
       "  0.248629274891644,\n",
       "  0.248629274891644,\n",
       "  tensor(0.2477, device='cuda:0')],\n",
       " [0.27785480232419685,\n",
       "  0.24863209411865328,\n",
       "  0.24863209411865328,\n",
       "  tensor(0.2477, device='cuda:0')],\n",
       " [0.27738059326239073,\n",
       "  0.24862818201867545,\n",
       "  0.24862818201867545,\n",
       "  tensor(0.2477, device='cuda:0')],\n",
       " [0.27763682733060224,\n",
       "  0.24862996434293141,\n",
       "  0.24862996434293141,\n",
       "  tensor(0.2477, device='cuda:0')],\n",
       " [0.2776639763578813,\n",
       "  0.24864355710948385,\n",
       "  0.24864355710948385,\n",
       "  tensor(0.2477, device='cuda:0')],\n",
       " [0.2782178404854565,\n",
       "  0.2486186122022024,\n",
       "  0.2486186122022024,\n",
       "  tensor(0.2477, device='cuda:0')],\n",
       " [0.27767935645612596,\n",
       "  0.24864004188921393,\n",
       "  0.24864004188921393,\n",
       "  tensor(0.2477, device='cuda:0')],\n",
       " [0.27797283551234214,\n",
       "  0.2486424860430927,\n",
       "  0.2486424860430927,\n",
       "  tensor(0.2477, device='cuda:0')],\n",
       " [0.2776808227465405,\n",
       "  0.2486480885162586,\n",
       "  0.2486480885162586,\n",
       "  tensor(0.2477, device='cuda:0')],\n",
       " [0.2783030189149748,\n",
       "  0.2486513507802312,\n",
       "  0.2486513507802312,\n",
       "  tensor(0.2477, device='cuda:0')],\n",
       " [0.27760306477223634,\n",
       "  0.24865057155853365,\n",
       "  0.24865057155853365,\n",
       "  tensor(0.2477, device='cuda:0')],\n",
       " [0.2776974639110772,\n",
       "  0.24866062148315152,\n",
       "  0.24866062148315152,\n",
       "  tensor(0.2477, device='cuda:0')],\n",
       " [0.27746065457661945,\n",
       "  0.24864810886906413,\n",
       "  0.24864810886906413,\n",
       "  tensor(0.2477, device='cuda:0')],\n",
       " [0.27780608013070374,\n",
       "  0.24865962455912335,\n",
       "  0.24865962455912335,\n",
       "  tensor(0.2477, device='cuda:0')],\n",
       " [0.27815776643391227,\n",
       "  0.24866017626553047,\n",
       "  0.24866017626553047,\n",
       "  tensor(0.2477, device='cuda:0')],\n",
       " [0.2777630079406387,\n",
       "  0.2486619687661892,\n",
       "  0.2486619687661892,\n",
       "  tensor(0.2477, device='cuda:0')],\n",
       " [0.27832258264546794,\n",
       "  0.24866478581254076,\n",
       "  0.24866478581254076,\n",
       "  tensor(0.2477, device='cuda:0')],\n",
       " [0.2777548140788143,\n",
       "  0.24866563009052742,\n",
       "  0.24866563009052742,\n",
       "  tensor(0.2477, device='cuda:0')],\n",
       " [0.2784689910366606,\n",
       "  0.24866528990792064,\n",
       "  0.24866528990792064,\n",
       "  tensor(0.2477, device='cuda:0')],\n",
       " [0.27766247097715774,\n",
       "  0.24866760722020778,\n",
       "  0.24866760722020778,\n",
       "  tensor(0.2477, device='cuda:0')],\n",
       " [0.27782047925602776,\n",
       "  0.24866977951875546,\n",
       "  0.24866977951875546,\n",
       "  tensor(0.2477, device='cuda:0')],\n",
       " [0.27727196371652246,\n",
       "  0.24867123110992154,\n",
       "  0.24867123110992154,\n",
       "  tensor(0.2477, device='cuda:0')],\n",
       " [0.2778838999710755,\n",
       "  0.2486739093210639,\n",
       "  0.2486739093210639,\n",
       "  tensor(0.2477, device='cuda:0')],\n",
       " [0.277882483108903,\n",
       "  0.24867298799317059,\n",
       "  0.24867298799317059,\n",
       "  tensor(0.2477, device='cuda:0')],\n",
       " [0.27782105575732097,\n",
       "  0.2486762498937002,\n",
       "  0.2486762498937002,\n",
       "  tensor(0.2477, device='cuda:0')],\n",
       " [0.27797812465729754,\n",
       "  0.2486751221302079,\n",
       "  0.2486751221302079,\n",
       "  tensor(0.2477, device='cuda:0')],\n",
       " [0.277485681258566,\n",
       "  0.2486769931345451,\n",
       "  0.2486769931345451,\n",
       "  tensor(0.2477, device='cuda:0')],\n",
       " [0.27810590998913215,\n",
       "  0.24867814706593025,\n",
       "  0.24867814706593025,\n",
       "  tensor(0.2477, device='cuda:0')],\n",
       " [0.27796618208329527,\n",
       "  0.24867941439151764,\n",
       "  0.24867941439151764,\n",
       "  tensor(0.2477, device='cuda:0')],\n",
       " [0.27815802601294787,\n",
       "  0.24868017180663785,\n",
       "  0.24868017180663785,\n",
       "  tensor(0.2477, device='cuda:0')],\n",
       " [0.27786445302691887,\n",
       "  0.24868109967650437,\n",
       "  0.24868109967650437,\n",
       "  tensor(0.2477, device='cuda:0')],\n",
       " [0.2785181244860497,\n",
       "  0.24868172225428792,\n",
       "  0.24868172225428792,\n",
       "  tensor(0.2477, device='cuda:0')],\n",
       " [0.27714012171517866,\n",
       "  0.24868175060283848,\n",
       "  0.24868175060283848,\n",
       "  tensor(0.2477, device='cuda:0')],\n",
       " [0.2784925473091725,\n",
       "  0.24868158669006535,\n",
       "  0.24868158669006535,\n",
       "  tensor(0.2477, device='cuda:0')],\n",
       " [0.2775744244981264,\n",
       "  0.2486817197101872,\n",
       "  0.2486817197101872,\n",
       "  tensor(0.2477, device='cuda:0')],\n",
       " [0.2784137973778939,\n",
       "  0.2486816273956764,\n",
       "  0.2486816273956764,\n",
       "  tensor(0.2477, device='cuda:0')],\n",
       " [0.27824661773717824,\n",
       "  0.2486817651405567,\n",
       "  0.2486817651405567,\n",
       "  tensor(0.2477, device='cuda:0')],\n",
       " [0.27738830237207696,\n",
       "  0.24868181202469802,\n",
       "  0.24868181202469802,\n",
       "  tensor(0.2477, device='cuda:0')],\n",
       " [0.27776578173727845,\n",
       "  0.24868175060283848,\n",
       "  0.24868175060283848,\n",
       "  tensor(0.2477, device='cuda:0')],\n",
       " [0.27781416439428563,\n",
       "  0.24868170226492534,\n",
       "  0.24868170226492534,\n",
       "  tensor(0.2477, device='cuda:0')],\n",
       " [0.2774812920791347,\n",
       "  0.24868176841154332,\n",
       "  0.24868176841154332,\n",
       "  tensor(0.2477, device='cuda:0')],\n",
       " [0.2787141425176688,\n",
       "  0.2486817891277918,\n",
       "  0.2486817891277918,\n",
       "  tensor(0.2477, device='cuda:0')],\n",
       " [0.2782731229858347,\n",
       "  0.24868170117459645,\n",
       "  0.24868170117459645,\n",
       "  tensor(0.2477, device='cuda:0')],\n",
       " [0.2784156843737212,\n",
       "  0.24868177967827496,\n",
       "  0.24868177967827496,\n",
       "  tensor(0.2477, device='cuda:0')],\n",
       " [0.27772916389028557,\n",
       "  0.24868181202469802,\n",
       "  0.24868181202469802,\n",
       "  tensor(0.2477, device='cuda:0')],\n",
       " [0.2786626004914281,\n",
       "  0.24868167064538815,\n",
       "  0.24868167064538815,\n",
       "  tensor(0.2477, device='cuda:0')],\n",
       " [0.2773766545099295,\n",
       "  0.24868169172507962,\n",
       "  0.24868169172507962,\n",
       "  tensor(0.2477, device='cuda:0')],\n",
       " [0.27690166243046604,\n",
       "  0.24868183237750355,\n",
       "  0.24868183237750355,\n",
       "  tensor(0.2477, device='cuda:0')],\n",
       " [0.27799072740523795,\n",
       "  0.2486818171128994,\n",
       "  0.2486818171128994,\n",
       "  tensor(0.2477, device='cuda:0')],\n",
       " [0.27815481632705624,\n",
       "  0.2486817818589327,\n",
       "  0.2486817818589327,\n",
       "  tensor(0.2477, device='cuda:0')],\n",
       " [0.2782023311630497,\n",
       "  0.24868161467517294,\n",
       "  0.24868161467517294,\n",
       "  tensor(0.2477, device='cuda:0')],\n",
       " [0.2779614601516465,\n",
       "  0.2486816793680191,\n",
       "  0.2486816793680191,\n",
       "  tensor(0.2477, device='cuda:0')],\n",
       " [0.278227591175374,\n",
       "  0.2486816746432607,\n",
       "  0.2486816746432607,\n",
       "  tensor(0.2477, device='cuda:0')],\n",
       " [0.27832764249830066,\n",
       "  0.2486816702819452,\n",
       "  0.2486816702819452,\n",
       "  tensor(0.2477, device='cuda:0')],\n",
       " [0.2776980963018205,\n",
       "  0.24868162703223345,\n",
       "  0.24868162703223345,\n",
       "  tensor(0.2477, device='cuda:0')],\n",
       " [0.2776986373472343,\n",
       "  0.2486817444243082,\n",
       "  0.2486817444243082,\n",
       "  tensor(0.2477, device='cuda:0')],\n",
       " [0.2779274063543252,\n",
       "  0.24868163212043484,\n",
       "  0.24868163212043484,\n",
       "  tensor(0.2477, device='cuda:0')],\n",
       " [0.2781412043384097,\n",
       "  0.2486816241246898,\n",
       "  0.2486816241246898,\n",
       "  tensor(0.2477, device='cuda:0')],\n",
       " [0.2774159355861385,\n",
       "  0.24868167500670363,\n",
       "  0.24868167500670363,\n",
       "  tensor(0.2477, device='cuda:0')],\n",
       " [0.27807462877697414,\n",
       "  0.24868171934674427,\n",
       "  0.24868171934674427,\n",
       "  tensor(0.2477, device='cuda:0')],\n",
       " [0.27752467650708146,\n",
       "  0.24868172334461677,\n",
       "  0.24868172334461677,\n",
       "  tensor(0.2477, device='cuda:0')],\n",
       " [0.27846990440919145,\n",
       "  0.24868166155931426,\n",
       "  0.24868166155931426,\n",
       "  tensor(0.2477, device='cuda:0')],\n",
       " [0.27846038147685975,\n",
       "  0.24868157324267598,\n",
       "  0.24868157324267598,\n",
       "  tensor(0.2477, device='cuda:0')],\n",
       " [0.27776941269393857,\n",
       "  0.24868166301308609,\n",
       "  0.24868166301308609,\n",
       "  tensor(0.2477, device='cuda:0')],\n",
       " [0.2773093323558973,\n",
       "  0.2486816292128912,\n",
       "  0.2486816292128912,\n",
       "  tensor(0.2477, device='cuda:0')],\n",
       " [0.2779390385480431,\n",
       "  0.24868175678136872,\n",
       "  0.24868175678136872,\n",
       "  tensor(0.2477, device='cuda:0')],\n",
       " [0.27784851516488446,\n",
       "  0.24868161394828703,\n",
       "  0.24868161394828703,\n",
       "  tensor(0.2477, device='cuda:0')],\n",
       " [0.27783189249555595,\n",
       "  0.24868172007363018,\n",
       "  0.24868172007363018,\n",
       "  tensor(0.2477, device='cuda:0')],\n",
       " [0.2778938124334909,\n",
       "  0.24868169354229439,\n",
       "  0.24868169354229439,\n",
       "  tensor(0.2477, device='cuda:0')],\n",
       " [0.278304312771898,\n",
       "  0.2486816695550593,\n",
       "  0.2486816695550593,\n",
       "  tensor(0.2477, device='cuda:0')],\n",
       " [0.2781730529254045,\n",
       "  0.2486816579248847,\n",
       "  0.2486816579248847,\n",
       "  tensor(0.2477, device='cuda:0')],\n",
       " [0.27751861112873727,\n",
       "  0.24868162049026024,\n",
       "  0.24868162049026024,\n",
       "  tensor(0.2477, device='cuda:0')],\n",
       " [0.27779114763265056,\n",
       "  0.24868173279413364,\n",
       "  0.24868173279413364,\n",
       "  tensor(0.2477, device='cuda:0')],\n",
       " [0.27769082469668815,\n",
       "  0.24868170117459645,\n",
       "  0.24868170117459645,\n",
       "  tensor(0.2477, device='cuda:0')],\n",
       " [0.2775093302494142,\n",
       "  0.24868176150612714,\n",
       "  0.24868176150612714,\n",
       "  tensor(0.2477, device='cuda:0')],\n",
       " [0.27736192739752896,\n",
       "  0.24868177059220103,\n",
       "  0.24868177059220103,\n",
       "  tensor(0.2477, device='cuda:0')],\n",
       " [0.27804053726235056,\n",
       "  0.2486817033552542,\n",
       "  0.2486817033552542,\n",
       "  tensor(0.2477, device='cuda:0')],\n",
       " [0.2774035380623205,\n",
       "  0.24868174115332162,\n",
       "  0.24868174115332162,\n",
       "  tensor(0.2477, device='cuda:0')],\n",
       " [0.27816631073551124,\n",
       "  0.2486816902713078,\n",
       "  0.2486816902713078,\n",
       "  tensor(0.2477, device='cuda:0')],\n",
       " [0.27800230532480774,\n",
       "  0.2486816826390057,\n",
       "  0.2486816826390057,\n",
       "  tensor(0.2477, device='cuda:0')]]"
      ]
     },
     "execution_count": 71,
     "metadata": {},
     "output_type": "execute_result"
    }
   ],
   "source": [
    "losses"
   ]
  },
  {
   "cell_type": "code",
   "execution_count": 73,
   "metadata": {},
   "outputs": [],
   "source": [
    "for i in range(len(losses)):\n",
    "    losses[i][3] = losses[i][3].item() "
   ]
  },
  {
   "cell_type": "code",
   "execution_count": 90,
   "metadata": {},
   "outputs": [
    {
     "data": {
      "text/plain": [
       "[Text(0.5, 0, 'epoch'), Text(0, 0.5, 'R2')]"
      ]
     },
     "execution_count": 90,
     "metadata": {},
     "output_type": "execute_result"
    },
    {
     "data": {
      "image/png": "[encoded data removed]",
      "text/plain": [
       "<Figure size 640x480 with 1 Axes>"
      ]
     },
     "metadata": {},
     "output_type": "display_data"
    }
   ],
   "source": [
    "point = pd.DataFrame(np.array(losses), columns=['train loss','test loss',\"1\", 'R2'])\n",
    "ax=sns.lineplot(data=point)\n",
    "ax.set(xlabel='epoch',ylabel='R2')"
   ]
  }
 ],
 "metadata": {
  "kernelspec": {
   "display_name": "nnunet",
   "language": "python",
   "name": "python3"
  },
  "language_info": {
   "codemirror_mode": {
    "name": "ipython",
    "version": 3
   },
   "file_extension": ".py",
   "mimetype": "text/x-python",
   "name": "python",
   "nbconvert_exporter": "python",
   "pygments_lexer": "ipython3",
   "version": "3.10.13"
  }
 },
 "nbformat": 4,
 "nbformat_minor": 2
}
